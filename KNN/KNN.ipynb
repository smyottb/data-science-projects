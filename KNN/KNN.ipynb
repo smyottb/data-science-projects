{
 "cells": [
  {
   "cell_type": "markdown",
   "metadata": {},
   "source": [
    "# K-Nearest Neighbors on Penguin Dataset\n",
    "\n",
    "This notebook contains the code for a K-Nearest Neighbor (KNN) classifier built using the Palmer Penguin dataset. The dataset is comprised of identifying information about 344 penguins from the Palmer Archipelago, Artarctica, including their physical characteristics, such as culmen length and flipper length, as well as the type of species (Adelie, Chinstrap, or Gentoo). The notebook uses a KNN classifier to identify the species of a penguin based on its culmen length and flipper length. \n",
    "\n",
    "\n",
    "#### Dataset Source\n",
    "\n",
    "Gorman KB, Williams TD, Fraser WR (2014) Ecological Sexual Dimorphism and Environmental Variability within a Community of Antarctic Penguins (Genus Pygoscelis). PLoS ONE 9(3): e90081. doi:10.1371/journal.pone.0090081"
   ]
  },
  {
   "cell_type": "markdown",
   "metadata": {},
   "source": [
    "## Import Libraries"
   ]
  },
  {
   "cell_type": "code",
   "execution_count": 1,
   "metadata": {},
   "outputs": [],
   "source": [
    "import pandas as pd\n",
    "import numpy as np\n",
    "\n",
    "from sklearn.preprocessing import LabelEncoder\n",
    "from sklearn.model_selection import train_test_split, GridSearchCV\n",
    "from sklearn.neighbors import KNeighborsClassifier\n",
    "from sklearn.metrics import confusion_matrix, accuracy_score \n",
    "\n",
    "import seaborn as sns\n",
    "import altair as alt\n",
    "import matplotlib.pyplot as plt\n",
    "from mlxtend.plotting import plot_decision_regions"
   ]
  },
  {
   "cell_type": "markdown",
   "metadata": {},
   "source": [
    "## Read in Data"
   ]
  },
  {
   "cell_type": "code",
   "execution_count": 2,
   "metadata": {},
   "outputs": [],
   "source": [
    "#read in data\n",
    "data = pd.read_csv('penguins.csv')"
   ]
  },
  {
   "cell_type": "code",
   "execution_count": 3,
   "metadata": {},
   "outputs": [
    {
     "data": {
      "text/html": [
       "<div>\n",
       "<style scoped>\n",
       "    .dataframe tbody tr th:only-of-type {\n",
       "        vertical-align: middle;\n",
       "    }\n",
       "\n",
       "    .dataframe tbody tr th {\n",
       "        vertical-align: top;\n",
       "    }\n",
       "\n",
       "    .dataframe thead th {\n",
       "        text-align: right;\n",
       "    }\n",
       "</style>\n",
       "<table border=\"1\" class=\"dataframe\">\n",
       "  <thead>\n",
       "    <tr style=\"text-align: right;\">\n",
       "      <th></th>\n",
       "      <th>studyName</th>\n",
       "      <th>Sample Number</th>\n",
       "      <th>Species</th>\n",
       "      <th>Region</th>\n",
       "      <th>Island</th>\n",
       "      <th>Stage</th>\n",
       "      <th>Individual ID</th>\n",
       "      <th>Clutch Completion</th>\n",
       "      <th>Date Egg</th>\n",
       "      <th>Culmen Length (mm)</th>\n",
       "      <th>Culmen Depth (mm)</th>\n",
       "      <th>Flipper Length (mm)</th>\n",
       "      <th>Body Mass (g)</th>\n",
       "      <th>Sex</th>\n",
       "      <th>Delta 15 N (o/oo)</th>\n",
       "      <th>Delta 13 C (o/oo)</th>\n",
       "      <th>Comments</th>\n",
       "    </tr>\n",
       "  </thead>\n",
       "  <tbody>\n",
       "    <tr>\n",
       "      <th>0</th>\n",
       "      <td>PAL0708</td>\n",
       "      <td>1</td>\n",
       "      <td>Adelie Penguin (Pygoscelis adeliae)</td>\n",
       "      <td>Anvers</td>\n",
       "      <td>Torgersen</td>\n",
       "      <td>Adult, 1 Egg Stage</td>\n",
       "      <td>N1A1</td>\n",
       "      <td>Yes</td>\n",
       "      <td>11/11/07</td>\n",
       "      <td>39.1</td>\n",
       "      <td>18.7</td>\n",
       "      <td>181.0</td>\n",
       "      <td>3750.0</td>\n",
       "      <td>MALE</td>\n",
       "      <td>NaN</td>\n",
       "      <td>NaN</td>\n",
       "      <td>Not enough blood for isotopes.</td>\n",
       "    </tr>\n",
       "    <tr>\n",
       "      <th>1</th>\n",
       "      <td>PAL0708</td>\n",
       "      <td>2</td>\n",
       "      <td>Adelie Penguin (Pygoscelis adeliae)</td>\n",
       "      <td>Anvers</td>\n",
       "      <td>Torgersen</td>\n",
       "      <td>Adult, 1 Egg Stage</td>\n",
       "      <td>N1A2</td>\n",
       "      <td>Yes</td>\n",
       "      <td>11/11/07</td>\n",
       "      <td>39.5</td>\n",
       "      <td>17.4</td>\n",
       "      <td>186.0</td>\n",
       "      <td>3800.0</td>\n",
       "      <td>FEMALE</td>\n",
       "      <td>8.94956</td>\n",
       "      <td>-24.69454</td>\n",
       "      <td>NaN</td>\n",
       "    </tr>\n",
       "    <tr>\n",
       "      <th>2</th>\n",
       "      <td>PAL0708</td>\n",
       "      <td>3</td>\n",
       "      <td>Adelie Penguin (Pygoscelis adeliae)</td>\n",
       "      <td>Anvers</td>\n",
       "      <td>Torgersen</td>\n",
       "      <td>Adult, 1 Egg Stage</td>\n",
       "      <td>N2A1</td>\n",
       "      <td>Yes</td>\n",
       "      <td>11/16/07</td>\n",
       "      <td>40.3</td>\n",
       "      <td>18.0</td>\n",
       "      <td>195.0</td>\n",
       "      <td>3250.0</td>\n",
       "      <td>FEMALE</td>\n",
       "      <td>8.36821</td>\n",
       "      <td>-25.33302</td>\n",
       "      <td>NaN</td>\n",
       "    </tr>\n",
       "    <tr>\n",
       "      <th>3</th>\n",
       "      <td>PAL0708</td>\n",
       "      <td>4</td>\n",
       "      <td>Adelie Penguin (Pygoscelis adeliae)</td>\n",
       "      <td>Anvers</td>\n",
       "      <td>Torgersen</td>\n",
       "      <td>Adult, 1 Egg Stage</td>\n",
       "      <td>N2A2</td>\n",
       "      <td>Yes</td>\n",
       "      <td>11/16/07</td>\n",
       "      <td>NaN</td>\n",
       "      <td>NaN</td>\n",
       "      <td>NaN</td>\n",
       "      <td>NaN</td>\n",
       "      <td>NaN</td>\n",
       "      <td>NaN</td>\n",
       "      <td>NaN</td>\n",
       "      <td>Adult not sampled.</td>\n",
       "    </tr>\n",
       "    <tr>\n",
       "      <th>4</th>\n",
       "      <td>PAL0708</td>\n",
       "      <td>5</td>\n",
       "      <td>Adelie Penguin (Pygoscelis adeliae)</td>\n",
       "      <td>Anvers</td>\n",
       "      <td>Torgersen</td>\n",
       "      <td>Adult, 1 Egg Stage</td>\n",
       "      <td>N3A1</td>\n",
       "      <td>Yes</td>\n",
       "      <td>11/16/07</td>\n",
       "      <td>36.7</td>\n",
       "      <td>19.3</td>\n",
       "      <td>193.0</td>\n",
       "      <td>3450.0</td>\n",
       "      <td>FEMALE</td>\n",
       "      <td>8.76651</td>\n",
       "      <td>-25.32426</td>\n",
       "      <td>NaN</td>\n",
       "    </tr>\n",
       "  </tbody>\n",
       "</table>\n",
       "</div>"
      ],
      "text/plain": [
       "  studyName  Sample Number                              Species  Region  \\\n",
       "0   PAL0708              1  Adelie Penguin (Pygoscelis adeliae)  Anvers   \n",
       "1   PAL0708              2  Adelie Penguin (Pygoscelis adeliae)  Anvers   \n",
       "2   PAL0708              3  Adelie Penguin (Pygoscelis adeliae)  Anvers   \n",
       "3   PAL0708              4  Adelie Penguin (Pygoscelis adeliae)  Anvers   \n",
       "4   PAL0708              5  Adelie Penguin (Pygoscelis adeliae)  Anvers   \n",
       "\n",
       "      Island               Stage Individual ID Clutch Completion  Date Egg  \\\n",
       "0  Torgersen  Adult, 1 Egg Stage          N1A1               Yes  11/11/07   \n",
       "1  Torgersen  Adult, 1 Egg Stage          N1A2               Yes  11/11/07   \n",
       "2  Torgersen  Adult, 1 Egg Stage          N2A1               Yes  11/16/07   \n",
       "3  Torgersen  Adult, 1 Egg Stage          N2A2               Yes  11/16/07   \n",
       "4  Torgersen  Adult, 1 Egg Stage          N3A1               Yes  11/16/07   \n",
       "\n",
       "   Culmen Length (mm)  Culmen Depth (mm)  Flipper Length (mm)  Body Mass (g)  \\\n",
       "0                39.1               18.7                181.0         3750.0   \n",
       "1                39.5               17.4                186.0         3800.0   \n",
       "2                40.3               18.0                195.0         3250.0   \n",
       "3                 NaN                NaN                  NaN            NaN   \n",
       "4                36.7               19.3                193.0         3450.0   \n",
       "\n",
       "      Sex  Delta 15 N (o/oo)  Delta 13 C (o/oo)  \\\n",
       "0    MALE                NaN                NaN   \n",
       "1  FEMALE            8.94956          -24.69454   \n",
       "2  FEMALE            8.36821          -25.33302   \n",
       "3     NaN                NaN                NaN   \n",
       "4  FEMALE            8.76651          -25.32426   \n",
       "\n",
       "                         Comments  \n",
       "0  Not enough blood for isotopes.  \n",
       "1                             NaN  \n",
       "2                             NaN  \n",
       "3              Adult not sampled.  \n",
       "4                             NaN  "
      ]
     },
     "execution_count": 3,
     "metadata": {},
     "output_type": "execute_result"
    }
   ],
   "source": [
    "#preview data\n",
    "data.head()"
   ]
  },
  {
   "cell_type": "code",
   "execution_count": 4,
   "metadata": {},
   "outputs": [
    {
     "data": {
      "text/plain": [
       "(344, 17)"
      ]
     },
     "execution_count": 4,
     "metadata": {},
     "output_type": "execute_result"
    }
   ],
   "source": [
    "#check shape of dataframe\n",
    "data.shape"
   ]
  },
  {
   "cell_type": "code",
   "execution_count": 5,
   "metadata": {},
   "outputs": [
    {
     "name": "stdout",
     "output_type": "stream",
     "text": [
      "<class 'pandas.core.frame.DataFrame'>\n",
      "RangeIndex: 344 entries, 0 to 343\n",
      "Data columns (total 17 columns):\n",
      " #   Column               Non-Null Count  Dtype  \n",
      "---  ------               --------------  -----  \n",
      " 0   studyName            344 non-null    object \n",
      " 1   Sample Number        344 non-null    int64  \n",
      " 2   Species              344 non-null    object \n",
      " 3   Region               344 non-null    object \n",
      " 4   Island               344 non-null    object \n",
      " 5   Stage                344 non-null    object \n",
      " 6   Individual ID        344 non-null    object \n",
      " 7   Clutch Completion    344 non-null    object \n",
      " 8   Date Egg             344 non-null    object \n",
      " 9   Culmen Length (mm)   342 non-null    float64\n",
      " 10  Culmen Depth (mm)    342 non-null    float64\n",
      " 11  Flipper Length (mm)  342 non-null    float64\n",
      " 12  Body Mass (g)        342 non-null    float64\n",
      " 13  Sex                  334 non-null    object \n",
      " 14  Delta 15 N (o/oo)    330 non-null    float64\n",
      " 15  Delta 13 C (o/oo)    331 non-null    float64\n",
      " 16  Comments             26 non-null     object \n",
      "dtypes: float64(6), int64(1), object(10)\n",
      "memory usage: 45.8+ KB\n"
     ]
    }
   ],
   "source": [
    "data.info()"
   ]
  },
  {
   "cell_type": "code",
   "execution_count": 6,
   "metadata": {},
   "outputs": [
    {
     "data": {
      "text/plain": [
       "Adelie Penguin (Pygoscelis adeliae)          152\n",
       "Gentoo penguin (Pygoscelis papua)            124\n",
       "Chinstrap penguin (Pygoscelis antarctica)     68\n",
       "Name: Species, dtype: int64"
      ]
     },
     "execution_count": 6,
     "metadata": {},
     "output_type": "execute_result"
    }
   ],
   "source": [
    "data['Species'].value_counts()"
   ]
  },
  {
   "cell_type": "code",
   "execution_count": 7,
   "metadata": {},
   "outputs": [
    {
     "data": {
      "text/plain": [
       "<AxesSubplot:>"
      ]
     },
     "execution_count": 7,
     "metadata": {},
     "output_type": "execute_result"
    },
    {
     "data": {
      "image/png": "[encoded data removed]",
      "text/plain": [
       "<Figure size 432x288 with 2 Axes>"
      ]
     },
     "metadata": {
      "needs_background": "light"
     },
     "output_type": "display_data"
    }
   ],
   "source": [
    "#check correlations between variables\n",
    "sns.heatmap(data[['Culmen Length (mm)', 'Culmen Depth (mm)', 'Flipper Length (mm)',\n",
    "                  'Body Mass (g)', 'Delta 15 N (o/oo)', 'Delta 13 C (o/oo)']].corr(),\n",
    "            annot = True)"
   ]
  },
  {
   "cell_type": "markdown",
   "metadata": {},
   "source": [
    "## Clean Data"
   ]
  },
  {
   "cell_type": "code",
   "execution_count": 8,
   "metadata": {},
   "outputs": [],
   "source": [
    "#keep relevant columns\n",
    "cols = ['Species', 'Culmen Length (mm)', 'Flipper Length (mm)']\n",
    "\n",
    "data = data[cols].rename(columns={'Culmen Length (mm)': 'Culmen',\n",
    "                                  'Flipper Length (mm)': 'Flipper'})"
   ]
  },
  {
   "cell_type": "code",
   "execution_count": 9,
   "metadata": {},
   "outputs": [],
   "source": [
    "#drop NaN values from dataframe\n",
    "data = data.dropna().reset_index(drop=True)"
   ]
  },
  {
   "cell_type": "markdown",
   "metadata": {},
   "source": [
    "#### Convert String Labels to Integers"
   ]
  },
  {
   "cell_type": "code",
   "execution_count": 10,
   "metadata": {},
   "outputs": [],
   "source": [
    "#encode target values with integers\n",
    "le = LabelEncoder()\n",
    "data['Species'] = le.fit_transform(data['Species'])"
   ]
  },
  {
   "cell_type": "code",
   "execution_count": 11,
   "metadata": {},
   "outputs": [
    {
     "name": "stdout",
     "output_type": "stream",
     "text": [
      "{'Adelie Penguin (Pygoscelis adeliae)': 0, 'Chinstrap penguin (Pygoscelis antarctica)': 1, 'Gentoo penguin (Pygoscelis papua)': 2}\n"
     ]
    }
   ],
   "source": [
    "#dictionary to map species to label\n",
    "keys = le.classes_\n",
    "values = le.transform(keys)\n",
    "species_dict = dict(zip(keys,values))\n",
    "\n",
    "print(species_dict)"
   ]
  },
  {
   "cell_type": "markdown",
   "metadata": {},
   "source": [
    "#### Perform Feature Scaling"
   ]
  },
  {
   "cell_type": "code",
   "execution_count": 12,
   "metadata": {},
   "outputs": [],
   "source": [
    "def normalize_col(df,col):\n",
    "    '''\n",
    "    input:  dataframe and column to normalize\n",
    "    output: normalized column \n",
    "    '''\n",
    "    \n",
    "    return (df[col] - df[col].min()) / (df[col].max() - df[col].min())"
   ]
  },
  {
   "cell_type": "code",
   "execution_count": 13,
   "metadata": {},
   "outputs": [],
   "source": [
    "#normalize independent variables\n",
    "data['Culmen'] = normalize_col(data,'Culmen')\n",
    "data['Flipper'] = normalize_col(data,'Flipper')"
   ]
  },
  {
   "cell_type": "code",
   "execution_count": 14,
   "metadata": {},
   "outputs": [
    {
     "data": {
      "text/html": [
       "<div>\n",
       "<style scoped>\n",
       "    .dataframe tbody tr th:only-of-type {\n",
       "        vertical-align: middle;\n",
       "    }\n",
       "\n",
       "    .dataframe tbody tr th {\n",
       "        vertical-align: top;\n",
       "    }\n",
       "\n",
       "    .dataframe thead th {\n",
       "        text-align: right;\n",
       "    }\n",
       "</style>\n",
       "<table border=\"1\" class=\"dataframe\">\n",
       "  <thead>\n",
       "    <tr style=\"text-align: right;\">\n",
       "      <th></th>\n",
       "      <th>Species</th>\n",
       "      <th>Culmen</th>\n",
       "      <th>Flipper</th>\n",
       "    </tr>\n",
       "  </thead>\n",
       "  <tbody>\n",
       "    <tr>\n",
       "      <th>0</th>\n",
       "      <td>0</td>\n",
       "      <td>0.254545</td>\n",
       "      <td>0.152542</td>\n",
       "    </tr>\n",
       "    <tr>\n",
       "      <th>1</th>\n",
       "      <td>0</td>\n",
       "      <td>0.269091</td>\n",
       "      <td>0.237288</td>\n",
       "    </tr>\n",
       "    <tr>\n",
       "      <th>2</th>\n",
       "      <td>0</td>\n",
       "      <td>0.298182</td>\n",
       "      <td>0.389831</td>\n",
       "    </tr>\n",
       "    <tr>\n",
       "      <th>3</th>\n",
       "      <td>0</td>\n",
       "      <td>0.167273</td>\n",
       "      <td>0.355932</td>\n",
       "    </tr>\n",
       "    <tr>\n",
       "      <th>4</th>\n",
       "      <td>0</td>\n",
       "      <td>0.261818</td>\n",
       "      <td>0.305085</td>\n",
       "    </tr>\n",
       "  </tbody>\n",
       "</table>\n",
       "</div>"
      ],
      "text/plain": [
       "   Species    Culmen   Flipper\n",
       "0        0  0.254545  0.152542\n",
       "1        0  0.269091  0.237288\n",
       "2        0  0.298182  0.389831\n",
       "3        0  0.167273  0.355932\n",
       "4        0  0.261818  0.305085"
      ]
     },
     "execution_count": 14,
     "metadata": {},
     "output_type": "execute_result"
    }
   ],
   "source": [
    "#preview cleaned data\n",
    "data.head()"
   ]
  },
  {
   "cell_type": "markdown",
   "metadata": {},
   "source": [
    "## Create Training & Test Datasets"
   ]
  },
  {
   "cell_type": "code",
   "execution_count": 15,
   "metadata": {},
   "outputs": [],
   "source": [
    "#split data into features and labels\n",
    "X = data[['Culmen','Flipper']]\n",
    "y = data['Species']"
   ]
  },
  {
   "cell_type": "code",
   "execution_count": 16,
   "metadata": {},
   "outputs": [],
   "source": [
    "#set random state for shuffling in dataset split\n",
    "random_state = 42"
   ]
  },
  {
   "cell_type": "code",
   "execution_count": 17,
   "metadata": {},
   "outputs": [],
   "source": [
    "#split data into training and test datasets\n",
    "X_train, X_test, y_train, y_test = train_test_split(X, y, random_state=random_state, stratify=y)"
   ]
  },
  {
   "cell_type": "code",
   "execution_count": 18,
   "metadata": {},
   "outputs": [
    {
     "name": "stdout",
     "output_type": "stream",
     "text": [
      "There are 256 samples in the training set.\n"
     ]
    }
   ],
   "source": [
    "print('There are', len(y_train), 'samples in the training set.')"
   ]
  },
  {
   "cell_type": "code",
   "execution_count": 19,
   "metadata": {},
   "outputs": [
    {
     "name": "stdout",
     "output_type": "stream",
     "text": [
      "There are 86 samples in the test set.\n"
     ]
    }
   ],
   "source": [
    "print('There are', len(y_test), 'samples in the test set.')"
   ]
  },
  {
   "cell_type": "markdown",
   "metadata": {},
   "source": [
    "#### Create Dataframes for Visualizing Data"
   ]
  },
  {
   "cell_type": "code",
   "execution_count": 20,
   "metadata": {},
   "outputs": [],
   "source": [
    "def create_df(X,y):\n",
    "    '''\n",
    "    inputs:\n",
    "        X = dataframe with 'Culmen' and 'Flipper' columns\n",
    "        y = species label for each penguin\n",
    "    output: dataframe with columns for culmen length, flipper length, and species\n",
    "    '''\n",
    "    df = pd.DataFrame(data={'Culmen': X['Culmen'],\n",
    "                            'Flipper': X['Flipper'],\n",
    "                            'Species': y})\n",
    "    return df"
   ]
  },
  {
   "cell_type": "code",
   "execution_count": 21,
   "metadata": {},
   "outputs": [],
   "source": [
    "#training data\n",
    "train_df = create_df(X_train, y_train)"
   ]
  },
  {
   "cell_type": "code",
   "execution_count": 22,
   "metadata": {},
   "outputs": [],
   "source": [
    "#test data\n",
    "test_df = create_df(X_test, y_test)"
   ]
  },
  {
   "cell_type": "markdown",
   "metadata": {},
   "source": [
    "## Plot Training Data"
   ]
  },
  {
   "cell_type": "code",
   "execution_count": 23,
   "metadata": {},
   "outputs": [],
   "source": [
    "def create_scatter(df, title):\n",
    "    '''\n",
    "    inputs:\n",
    "        df = dataframe to plot\n",
    "        title = title for scatterplot\n",
    "    output: scatterplot\n",
    "    '''\n",
    "    chart = alt.Chart(df).mark_point().encode(\n",
    "                x = 'Culmen',\n",
    "                y = 'Flipper',\n",
    "                color = 'Species:N').\\\n",
    "            properties(title = title)\n",
    "    \n",
    "    return chart"
   ]
  },
  {
   "cell_type": "code",
   "execution_count": 24,
   "metadata": {},
   "outputs": [],
   "source": [
    "#create scatterplot of training data\n",
    "train_plot = create_scatter(train_df, 'Penguins in Training Dataset')"
   ]
  },
  {
   "cell_type": "code",
   "execution_count": 25,
   "metadata": {},
   "outputs": [
    {
     "data": {
      "text/html": [
       "\n",
       "<div id=\"altair-viz-524bd45608824331b2e73ccb4eb62670\"></div>\n",
       "<script type=\"text/javascript\">\n",
       "  (function(spec, embedOpt){\n",
       "    let outputDiv = document.currentScript.previousElementSibling;\n",
       "    if (outputDiv.id !== \"altair-viz-524bd45608824331b2e73ccb4eb62670\") {\n",
       "      outputDiv = document.getElementById(\"altair-viz-524bd45608824331b2e73ccb4eb62670\");\n",
       "    }\n",
       "    const paths = {\n",
       "      \"vega\": \"https://cdn.jsdelivr.net/npm//vega@5?noext\",\n",
       "      \"vega-lib\": \"https://cdn.jsdelivr.net/npm//vega-lib?noext\",\n",
       "      \"vega-lite\": \"https://cdn.jsdelivr.net/npm//vega-lite@4.8.1?noext\",\n",
       "      \"vega-embed\": \"https://cdn.jsdelivr.net/npm//vega-embed@6?noext\",\n",
       "    };\n",
       "\n",
       "    function loadScript(lib) {\n",
       "      return new Promise(function(resolve, reject) {\n",
       "        var s = document.createElement('script');\n",
       "        s.src = paths[lib];\n",
       "        s.async = true;\n",
       "        s.onload = () => resolve(paths[lib]);\n",
       "        s.onerror = () => reject(`Error loading script: ${paths[lib]}`);\n",
       "        document.getElementsByTagName(\"head\")[0].appendChild(s);\n",
       "      });\n",
       "    }\n",
       "\n",
       "    function showError(err) {\n",
       "      outputDiv.innerHTML = `<div class=\"error\" style=\"color:red;\">${err}</div>`;\n",
       "      throw err;\n",
       "    }\n",
       "\n",
       "    function displayChart(vegaEmbed) {\n",
       "      vegaEmbed(outputDiv, spec, embedOpt)\n",
       "        .catch(err => showError(`Javascript Error: ${err.message}<br>This usually means there's a typo in your chart specification. See the javascript console for the full traceback.`));\n",
       "    }\n",
       "\n",
       "    if(typeof define === \"function\" && define.amd) {\n",
       "      requirejs.config({paths});\n",
       "      require([\"vega-embed\"], displayChart, err => showError(`Error loading script: ${err.message}`));\n",
       "    } else if (typeof vegaEmbed === \"function\") {\n",
       "      displayChart(vegaEmbed);\n",
       "    } else {\n",
       "      loadScript(\"vega\")\n",
       "        .then(() => loadScript(\"vega-lite\"))\n",
       "        .then(() => loadScript(\"vega-embed\"))\n",
       "        .catch(showError)\n",
       "        .then(() => displayChart(vegaEmbed));\n",
       "    }\n",
       "  })({\"config\": {\"view\": {\"continuousWidth\": 400, \"continuousHeight\": 300}}, \"data\": {\"name\": \"data-406cd6233abcaf14e76b2da94c1085a0\"}, \"mark\": \"point\", \"encoding\": {\"color\": {\"type\": \"nominal\", \"field\": \"Species\"}, \"x\": {\"type\": \"quantitative\", \"field\": \"Culmen\"}, \"y\": {\"type\": \"quantitative\", \"field\": \"Flipper\"}}, \"title\": \"Penguins in Training Dataset\", \"$schema\": \"https://vega.github.io/schema/vega-lite/v4.8.1.json\", \"datasets\": {\"data-406cd6233abcaf14e76b2da94c1085a0\": [{\"Culmen\": 0.3090909090909091, \"Flipper\": 0.2542372881355932, \"Species\": 0}, {\"Culmen\": 0.4727272727272727, \"Flipper\": 0.7288135593220338, \"Species\": 2}, {\"Culmen\": 0.5599999999999999, \"Flipper\": 0.6271186440677966, \"Species\": 2}, {\"Culmen\": 0.08727272727272722, \"Flipper\": 0.2542372881355932, \"Species\": 0}, {\"Culmen\": 0.31636363636363624, \"Flipper\": 0.3898305084745763, \"Species\": 0}, {\"Culmen\": 0.15636363636363626, \"Flipper\": 0.2033898305084746, \"Species\": 0}, {\"Culmen\": 0.498181818181818, \"Flipper\": 0.6440677966101694, \"Species\": 2}, {\"Culmen\": 0.530909090909091, \"Flipper\": 0.3898305084745763, \"Species\": 1}, {\"Culmen\": 0.6327272727272727, \"Flipper\": 0.8813559322033898, \"Species\": 2}, {\"Culmen\": 0.6509090909090909, \"Flipper\": 0.8813559322033898, \"Species\": 2}, {\"Culmen\": 0.2763636363636364, \"Flipper\": 0.3559322033898305, \"Species\": 0}, {\"Culmen\": 0.2072727272727271, \"Flipper\": 0.23728813559322035, \"Species\": 0}, {\"Culmen\": 0.6218181818181818, \"Flipper\": 0.8305084745762712, \"Species\": 2}, {\"Culmen\": 0.5927272727272727, \"Flipper\": 0.5254237288135594, \"Species\": 2}, {\"Culmen\": 0.3854545454545455, \"Flipper\": 0.6101694915254238, \"Species\": 2}, {\"Culmen\": 0.29818181818181805, \"Flipper\": 0.4067796610169492, \"Species\": 0}, {\"Culmen\": 0.13818181818181807, \"Flipper\": 0.3050847457627119, \"Species\": 0}, {\"Culmen\": 0.2109090909090908, \"Flipper\": 0.0, \"Species\": 0}, {\"Culmen\": 0.21818181818181817, \"Flipper\": 0.3050847457627119, \"Species\": 0}, {\"Culmen\": 0.6799999999999998, \"Flipper\": 0.9152542372881356, \"Species\": 2}, {\"Culmen\": 0.1854545454545455, \"Flipper\": 0.1016949152542373, \"Species\": 0}, {\"Culmen\": 0.47636363636363643, \"Flipper\": 0.6779661016949152, \"Species\": 2}, {\"Culmen\": 0.6509090909090909, \"Flipper\": 0.8135593220338984, \"Species\": 2}, {\"Culmen\": 0.5345454545454544, \"Flipper\": 0.7288135593220338, \"Species\": 2}, {\"Culmen\": 0.5709090909090907, \"Flipper\": 0.7288135593220338, \"Species\": 2}, {\"Culmen\": 0.4909090909090909, \"Flipper\": 0.3220338983050847, \"Species\": 0}, {\"Culmen\": 0.25090909090909086, \"Flipper\": 0.23728813559322035, \"Species\": 0}, {\"Culmen\": 0.6036363636363636, \"Flipper\": 0.6101694915254238, \"Species\": 2}, {\"Culmen\": 0.3199999999999999, \"Flipper\": 0.2033898305084746, \"Species\": 0}, {\"Culmen\": 0.5236363636363636, \"Flipper\": 0.6440677966101694, \"Species\": 2}, {\"Culmen\": 0.6799999999999998, \"Flipper\": 0.4915254237288136, \"Species\": 1}, {\"Culmen\": 0.07272727272727272, \"Flipper\": 0.3559322033898305, \"Species\": 0}, {\"Culmen\": 0.26909090909090905, \"Flipper\": 0.1016949152542373, \"Species\": 0}, {\"Culmen\": 0.698181818181818, \"Flipper\": 0.7796610169491526, \"Species\": 2}, {\"Culmen\": 0.33454545454545437, \"Flipper\": 0.3898305084745763, \"Species\": 0}, {\"Culmen\": 0.32727272727272727, \"Flipper\": 0.1694915254237288, \"Species\": 0}, {\"Culmen\": 0.2763636363636364, \"Flipper\": 0.2033898305084746, \"Species\": 0}, {\"Culmen\": 0.36363636363636365, \"Flipper\": 0.3898305084745763, \"Species\": 0}, {\"Culmen\": 0.2763636363636364, \"Flipper\": 0.3559322033898305, \"Species\": 0}, {\"Culmen\": 0.43636363636363634, \"Flipper\": 0.4067796610169492, \"Species\": 0}, {\"Culmen\": 0.6763636363636364, \"Flipper\": 0.5254237288135594, \"Species\": 1}, {\"Culmen\": 0.3781818181818181, \"Flipper\": 0.423728813559322, \"Species\": 0}, {\"Culmen\": 0.47636363636363643, \"Flipper\": 0.3220338983050847, \"Species\": 1}, {\"Culmen\": 0.48727272727272725, \"Flipper\": 0.4067796610169492, \"Species\": 1}, {\"Culmen\": 0.7199999999999999, \"Flipper\": 0.576271186440678, \"Species\": 1}, {\"Culmen\": 0.5345454545454544, \"Flipper\": 0.7288135593220338, \"Species\": 2}, {\"Culmen\": 0.39272727272727265, \"Flipper\": 0.4067796610169492, \"Species\": 0}, {\"Culmen\": 0.3381818181818181, \"Flipper\": 0.5084745762711864, \"Species\": 0}, {\"Culmen\": 0.12363636363636359, \"Flipper\": 0.3050847457627119, \"Species\": 0}, {\"Culmen\": 0.5490909090909092, \"Flipper\": 0.7288135593220338, \"Species\": 2}, {\"Culmen\": 0.22181818181818186, \"Flipper\": 0.22033898305084745, \"Species\": 0}, {\"Culmen\": 0.12727272727272726, \"Flipper\": 0.3220338983050847, \"Species\": 0}, {\"Culmen\": 0.6472727272727272, \"Flipper\": 0.6949152542372882, \"Species\": 2}, {\"Culmen\": 0.6581818181818182, \"Flipper\": 0.4406779661016949, \"Species\": 1}, {\"Culmen\": 0.14181818181818176, \"Flipper\": 0.2542372881355932, \"Species\": 0}, {\"Culmen\": 0.3781818181818181, \"Flipper\": 0.2542372881355932, \"Species\": 1}, {\"Culmen\": 0.24727272727272717, \"Flipper\": 0.15254237288135594, \"Species\": 0}, {\"Culmen\": 0.26181818181818167, \"Flipper\": 0.3050847457627119, \"Species\": 0}, {\"Culmen\": 0.3236363636363636, \"Flipper\": 0.5254237288135594, \"Species\": 0}, {\"Culmen\": 0.17454545454545445, \"Flipper\": 0.288135593220339, \"Species\": 0}, {\"Culmen\": 0.10909090909090909, \"Flipper\": 0.3559322033898305, \"Species\": 0}, {\"Culmen\": 0.14181818181818176, \"Flipper\": 0.3050847457627119, \"Species\": 0}, {\"Culmen\": 0.5527272727272726, \"Flipper\": 0.847457627118644, \"Species\": 2}, {\"Culmen\": 0.4109090909090908, \"Flipper\": 0.7796610169491526, \"Species\": 2}, {\"Culmen\": 0.498181818181818, \"Flipper\": 0.423728813559322, \"Species\": 0}, {\"Culmen\": 0.6618181818181816, \"Flipper\": 0.423728813559322, \"Species\": 1}, {\"Culmen\": 0.15999999999999995, \"Flipper\": 0.1694915254237288, \"Species\": 0}, {\"Culmen\": 0.14909090909090914, \"Flipper\": 0.2542372881355932, \"Species\": 0}, {\"Culmen\": 0.5127272727272728, \"Flipper\": 0.711864406779661, \"Species\": 2}, {\"Culmen\": 0.5927272727272727, \"Flipper\": 0.6949152542372882, \"Species\": 2}, {\"Culmen\": 0.23636363636363636, \"Flipper\": 0.3220338983050847, \"Species\": 0}, {\"Culmen\": 0.15636363636363626, \"Flipper\": 0.3898305084745763, \"Species\": 0}, {\"Culmen\": 0.45090909090909087, \"Flipper\": 0.7457627118644068, \"Species\": 2}, {\"Culmen\": 0.5054545454545454, \"Flipper\": 0.3728813559322034, \"Species\": 0}, {\"Culmen\": 0.3490909090909091, \"Flipper\": 0.6440677966101694, \"Species\": 2}, {\"Culmen\": 0.4145454545454545, \"Flipper\": 0.6949152542372882, \"Species\": 2}, {\"Culmen\": 0.5490909090909092, \"Flipper\": 0.711864406779661, \"Species\": 2}, {\"Culmen\": 0.698181818181818, \"Flipper\": 0.423728813559322, \"Species\": 1}, {\"Culmen\": 0.6654545454545453, \"Flipper\": 0.8813559322033898, \"Species\": 2}, {\"Culmen\": 0.6872727272727273, \"Flipper\": 0.5254237288135594, \"Species\": 1}, {\"Culmen\": 0.698181818181818, \"Flipper\": 0.4406779661016949, \"Species\": 1}, {\"Culmen\": 0.08363636363636354, \"Flipper\": 0.2033898305084746, \"Species\": 0}, {\"Culmen\": 0.7018181818181817, \"Flipper\": 0.4915254237288136, \"Species\": 1}, {\"Culmen\": 0.37454545454545446, \"Flipper\": 0.15254237288135594, \"Species\": 1}, {\"Culmen\": 0.5963636363636363, \"Flipper\": 0.7966101694915254, \"Species\": 2}, {\"Culmen\": 0.15272727272727257, \"Flipper\": 0.3050847457627119, \"Species\": 0}, {\"Culmen\": 0.8363636363636363, \"Flipper\": 0.9830508474576272, \"Species\": 2}, {\"Culmen\": 0.24363636363636348, \"Flipper\": 0.3220338983050847, \"Species\": 0}, {\"Culmen\": 0.5199999999999999, \"Flipper\": 0.8305084745762712, \"Species\": 2}, {\"Culmen\": 0.2727272727272727, \"Flipper\": 0.23728813559322035, \"Species\": 0}, {\"Culmen\": 0.5963636363636363, \"Flipper\": 0.8135593220338984, \"Species\": 2}, {\"Culmen\": 0.29818181818181805, \"Flipper\": 0.3898305084745763, \"Species\": 0}, {\"Culmen\": 0.6799999999999998, \"Flipper\": 0.6440677966101694, \"Species\": 1}, {\"Culmen\": 0.7527272727272726, \"Flipper\": 0.559322033898305, \"Species\": 1}, {\"Culmen\": 0.23636363636363636, \"Flipper\": 0.2711864406779661, \"Species\": 0}, {\"Culmen\": 0.35999999999999993, \"Flipper\": 0.3050847457627119, \"Species\": 0}, {\"Culmen\": 0.6145454545454545, \"Flipper\": 0.6440677966101694, \"Species\": 1}, {\"Culmen\": 0.5527272727272726, \"Flipper\": 0.7457627118644068, \"Species\": 2}, {\"Culmen\": 0.48727272727272725, \"Flipper\": 0.8135593220338984, \"Species\": 2}, {\"Culmen\": 0.5054545454545454, \"Flipper\": 0.3898305084745763, \"Species\": 1}, {\"Culmen\": 0.7127272727272728, \"Flipper\": 0.3728813559322034, \"Species\": 1}, {\"Culmen\": 0.32727272727272727, \"Flipper\": 0.3389830508474576, \"Species\": 0}, {\"Culmen\": 0.4036363636363637, \"Flipper\": 0.3389830508474576, \"Species\": 0}, {\"Culmen\": 0.5236363636363636, \"Flipper\": 0.7627118644067796, \"Species\": 2}, {\"Culmen\": 0.498181818181818, \"Flipper\": 0.7966101694915254, \"Species\": 2}, {\"Culmen\": 0.4909090909090909, \"Flipper\": 0.3728813559322034, \"Species\": 1}, {\"Culmen\": 0.4072727272727271, \"Flipper\": 0.6271186440677966, \"Species\": 2}, {\"Culmen\": 0.8618181818181817, \"Flipper\": 0.5932203389830508, \"Species\": 1}, {\"Culmen\": 0.6509090909090909, \"Flipper\": 0.7796610169491526, \"Species\": 2}, {\"Culmen\": 0.31636363636363624, \"Flipper\": 0.6101694915254238, \"Species\": 0}, {\"Culmen\": 0.46545454545454534, \"Flipper\": 0.6779661016949152, \"Species\": 2}, {\"Culmen\": 0.48363636363636353, \"Flipper\": 0.6610169491525424, \"Species\": 2}, {\"Culmen\": 0.33454545454545437, \"Flipper\": 0.3728813559322034, \"Species\": 0}, {\"Culmen\": 0.14181818181818176, \"Flipper\": 0.3898305084745763, \"Species\": 0}, {\"Culmen\": 0.6436363636363635, \"Flipper\": 0.9830508474576272, \"Species\": 2}, {\"Culmen\": 0.11636363636363621, \"Flipper\": 0.2542372881355932, \"Species\": 0}, {\"Culmen\": 0.6436363636363635, \"Flipper\": 0.4406779661016949, \"Species\": 1}, {\"Culmen\": 0.35272727272727256, \"Flipper\": 0.4406779661016949, \"Species\": 0}, {\"Culmen\": 0.17818181818181814, \"Flipper\": 0.22033898305084745, \"Species\": 0}, {\"Culmen\": 0.6690909090909091, \"Flipper\": 0.847457627118644, \"Species\": 2}, {\"Culmen\": 0.48727272727272725, \"Flipper\": 0.6440677966101694, \"Species\": 2}, {\"Culmen\": 0.39272727272727265, \"Flipper\": 0.7288135593220338, \"Species\": 2}, {\"Culmen\": 0.5854545454545456, \"Flipper\": 0.6440677966101694, \"Species\": 2}, {\"Culmen\": 0.25818181818181823, \"Flipper\": 0.4067796610169492, \"Species\": 0}, {\"Culmen\": 0.34181818181818174, \"Flipper\": 0.3898305084745763, \"Species\": 0}, {\"Culmen\": 0.7236363636363636, \"Flipper\": 0.4915254237288136, \"Species\": 1}, {\"Culmen\": 0.6363636363636364, \"Flipper\": 0.3559322033898305, \"Species\": 1}, {\"Culmen\": 0.18909090909090895, \"Flipper\": 0.3220338983050847, \"Species\": 0}, {\"Culmen\": 0.32727272727272727, \"Flipper\": 0.1694915254237288, \"Species\": 0}, {\"Culmen\": 0.1854545454545455, \"Flipper\": 0.2033898305084746, \"Species\": 0}, {\"Culmen\": 0.7236363636363636, \"Flipper\": 0.423728813559322, \"Species\": 1}, {\"Culmen\": 0.6727272727272727, \"Flipper\": 0.3559322033898305, \"Species\": 1}, {\"Culmen\": 0.5636363636363636, \"Flipper\": 0.3898305084745763, \"Species\": 1}, {\"Culmen\": 0.4945454545454546, \"Flipper\": 0.711864406779661, \"Species\": 2}, {\"Culmen\": 0.3054545454545454, \"Flipper\": 0.2542372881355932, \"Species\": 0}, {\"Culmen\": 0.32727272727272727, \"Flipper\": 0.3050847457627119, \"Species\": 0}, {\"Culmen\": 0.509090909090909, \"Flipper\": 0.6610169491525424, \"Species\": 2}, {\"Culmen\": 0.13090909090909095, \"Flipper\": 0.288135593220339, \"Species\": 0}, {\"Culmen\": 0.509090909090909, \"Flipper\": 0.7288135593220338, \"Species\": 2}, {\"Culmen\": 0.48727272727272725, \"Flipper\": 0.711864406779661, \"Species\": 2}, {\"Culmen\": 0.3090909090909091, \"Flipper\": 0.3559322033898305, \"Species\": 0}, {\"Culmen\": 0.5236363636363636, \"Flipper\": 0.6949152542372882, \"Species\": 2}, {\"Culmen\": 0.48363636363636353, \"Flipper\": 0.2711864406779661, \"Species\": 1}, {\"Culmen\": 0.27999999999999986, \"Flipper\": 0.2033898305084746, \"Species\": 0}, {\"Culmen\": 0.47636363636363643, \"Flipper\": 0.7288135593220338, \"Species\": 2}, {\"Culmen\": 0.6181818181818182, \"Flipper\": 0.8135593220338984, \"Species\": 2}, {\"Culmen\": 0.41818181818181815, \"Flipper\": 0.7627118644067796, \"Species\": 2}, {\"Culmen\": 0.5127272727272728, \"Flipper\": 0.8305084745762712, \"Species\": 2}, {\"Culmen\": 0.2945454545454546, \"Flipper\": 0.3559322033898305, \"Species\": 0}, {\"Culmen\": 0.2545454545454545, \"Flipper\": 0.15254237288135594, \"Species\": 0}, {\"Culmen\": 0.5599999999999999, \"Flipper\": 0.7796610169491526, \"Species\": 2}, {\"Culmen\": 0.21818181818181817, \"Flipper\": 0.4406779661016949, \"Species\": 0}, {\"Culmen\": 0.2036363636363637, \"Flipper\": 0.1864406779661017, \"Species\": 0}, {\"Culmen\": 0.38181818181818183, \"Flipper\": 0.6949152542372882, \"Species\": 2}, {\"Culmen\": 0.25818181818181823, \"Flipper\": 0.3898305084745763, \"Species\": 0}, {\"Culmen\": 0.6181818181818182, \"Flipper\": 0.9491525423728814, \"Species\": 2}, {\"Culmen\": 0.43636363636363634, \"Flipper\": 0.6440677966101694, \"Species\": 0}, {\"Culmen\": 0.18909090909090895, \"Flipper\": 0.3389830508474576, \"Species\": 0}, {\"Culmen\": 0.17090909090909076, \"Flipper\": 0.3559322033898305, \"Species\": 0}, {\"Culmen\": 0.730909090909091, \"Flipper\": 0.9491525423728814, \"Species\": 2}, {\"Culmen\": 0.4036363636363637, \"Flipper\": 0.423728813559322, \"Species\": 0}, {\"Culmen\": 0.5127272727272728, \"Flipper\": 0.7627118644067796, \"Species\": 2}, {\"Culmen\": 0.09090909090909091, \"Flipper\": 0.4406779661016949, \"Species\": 0}, {\"Culmen\": 0.4327272727272727, \"Flipper\": 0.6101694915254238, \"Species\": 2}, {\"Culmen\": 0.2072727272727271, \"Flipper\": 0.03389830508474576, \"Species\": 0}, {\"Culmen\": 0.2036363636363637, \"Flipper\": 0.4406779661016949, \"Species\": 0}, {\"Culmen\": 0.45090909090909087, \"Flipper\": 0.711864406779661, \"Species\": 2}, {\"Culmen\": 0.47999999999999987, \"Flipper\": 0.6440677966101694, \"Species\": 2}, {\"Culmen\": 0.7054545454545454, \"Flipper\": 0.9830508474576272, \"Species\": 2}, {\"Culmen\": 0.4727272727272727, \"Flipper\": 0.5932203389830508, \"Species\": 2}, {\"Culmen\": 0.698181818181818, \"Flipper\": 0.3559322033898305, \"Species\": 1}, {\"Culmen\": 0.64, \"Flipper\": 0.3898305084745763, \"Species\": 1}, {\"Culmen\": 0.14909090909090914, \"Flipper\": 0.2542372881355932, \"Species\": 0}, {\"Culmen\": 0.6581818181818182, \"Flipper\": 0.7796610169491526, \"Species\": 2}, {\"Culmen\": 0.12363636363636359, \"Flipper\": 0.3898305084745763, \"Species\": 0}, {\"Culmen\": 0.5818181818181818, \"Flipper\": 0.6271186440677966, \"Species\": 2}, {\"Culmen\": 0.530909090909091, \"Flipper\": 0.7966101694915254, \"Species\": 2}, {\"Culmen\": 0.24363636363636348, \"Flipper\": 0.13559322033898305, \"Species\": 0}, {\"Culmen\": 0.2945454545454546, \"Flipper\": 0.4745762711864407, \"Species\": 0}, {\"Culmen\": 0.17818181818181814, \"Flipper\": 0.22033898305084745, \"Species\": 0}, {\"Culmen\": 0.7781818181818181, \"Flipper\": 0.559322033898305, \"Species\": 1}, {\"Culmen\": 0.6690909090909091, \"Flipper\": 0.4915254237288136, \"Species\": 1}, {\"Culmen\": 0.5199999999999999, \"Flipper\": 0.3050847457627119, \"Species\": 1}, {\"Culmen\": 0.7490909090909091, \"Flipper\": 0.423728813559322, \"Species\": 1}, {\"Culmen\": 0.34545454545454546, \"Flipper\": 0.3389830508474576, \"Species\": 0}, {\"Culmen\": 0.3090909090909091, \"Flipper\": 0.1864406779661017, \"Species\": 0}, {\"Culmen\": 0.21818181818181817, \"Flipper\": 0.2542372881355932, \"Species\": 0}, {\"Culmen\": 0.5636363636363636, \"Flipper\": 0.7288135593220338, \"Species\": 2}, {\"Culmen\": 0.1054545454545454, \"Flipper\": 0.3050847457627119, \"Species\": 0}, {\"Culmen\": 0.050909090909090855, \"Flipper\": 0.3050847457627119, \"Species\": 0}, {\"Culmen\": 0.6545454545454545, \"Flipper\": 0.3050847457627119, \"Species\": 1}, {\"Culmen\": 0.2727272727272727, \"Flipper\": 0.3050847457627119, \"Species\": 0}, {\"Culmen\": 0.3672727272727273, \"Flipper\": 0.13559322033898305, \"Species\": 0}, {\"Culmen\": 0.6690909090909091, \"Flipper\": 0.4745762711864407, \"Species\": 1}, {\"Culmen\": 0.5236363636363636, \"Flipper\": 0.3389830508474576, \"Species\": 1}, {\"Culmen\": 0.2727272727272727, \"Flipper\": 0.3220338983050847, \"Species\": 0}, {\"Culmen\": 0.6181818181818182, \"Flipper\": 0.6779661016949152, \"Species\": 2}, {\"Culmen\": 0.3127272727272728, \"Flipper\": 0.3050847457627119, \"Species\": 0}, {\"Culmen\": 1.0, \"Flipper\": 0.9830508474576272, \"Species\": 2}, {\"Culmen\": 0.23636363636363636, \"Flipper\": 0.4576271186440678, \"Species\": 0}, {\"Culmen\": 0.6654545454545453, \"Flipper\": 0.847457627118644, \"Species\": 2}, {\"Culmen\": 0.25090909090909086, \"Flipper\": 0.22033898305084745, \"Species\": 0}, {\"Culmen\": 0.6254545454545453, \"Flipper\": 0.5254237288135594, \"Species\": 1}, {\"Culmen\": 0.5599999999999999, \"Flipper\": 0.6779661016949152, \"Species\": 2}, {\"Culmen\": 0.47636363636363643, \"Flipper\": 0.7288135593220338, \"Species\": 2}, {\"Culmen\": 0.5672727272727274, \"Flipper\": 0.7457627118644068, \"Species\": 2}, {\"Culmen\": 0.730909090909091, \"Flipper\": 0.423728813559322, \"Species\": 1}, {\"Culmen\": 0.5381818181818181, \"Flipper\": 0.3389830508474576, \"Species\": 1}, {\"Culmen\": 0.3199999999999999, \"Flipper\": 0.2542372881355932, \"Species\": 1}, {\"Culmen\": 0.5272727272727272, \"Flipper\": 0.6440677966101694, \"Species\": 2}, {\"Culmen\": 0.4945454545454546, \"Flipper\": 0.3898305084745763, \"Species\": 1}, {\"Culmen\": 0.24363636363636348, \"Flipper\": 0.3050847457627119, \"Species\": 0}, {\"Culmen\": 0.6, \"Flipper\": 0.9830508474576272, \"Species\": 2}, {\"Culmen\": 0.24000000000000005, \"Flipper\": 0.3898305084745763, \"Species\": 0}, {\"Culmen\": 0.4145454545454545, \"Flipper\": 0.5084745762711864, \"Species\": 1}, {\"Culmen\": 0.6363636363636364, \"Flipper\": 0.8983050847457628, \"Species\": 2}, {\"Culmen\": 0.47999999999999987, \"Flipper\": 0.6101694915254238, \"Species\": 2}, {\"Culmen\": 0.16727272727272732, \"Flipper\": 0.3559322033898305, \"Species\": 0}, {\"Culmen\": 0.6145454545454545, \"Flipper\": 0.7457627118644068, \"Species\": 2}, {\"Culmen\": 0.3054545454545454, \"Flipper\": 0.13559322033898305, \"Species\": 0}, {\"Culmen\": 0.3672727272727273, \"Flipper\": 0.423728813559322, \"Species\": 0}, {\"Culmen\": 0.3090909090909091, \"Flipper\": 0.4576271186440678, \"Species\": 0}, {\"Culmen\": 0.16363636363636364, \"Flipper\": 0.2033898305084746, \"Species\": 0}, {\"Culmen\": 0.5345454545454544, \"Flipper\": 0.288135593220339, \"Species\": 1}, {\"Culmen\": 0.03636363636363636, \"Flipper\": 0.1016949152542373, \"Species\": 0}, {\"Culmen\": 0.7054545454545454, \"Flipper\": 0.2542372881355932, \"Species\": 1}, {\"Culmen\": 0.46545454545454534, \"Flipper\": 0.6949152542372882, \"Species\": 2}, {\"Culmen\": 0.6218181818181818, \"Flipper\": 0.3898305084745763, \"Species\": 1}, {\"Culmen\": 0.8654545454545454, \"Flipper\": 0.9491525423728814, \"Species\": 2}, {\"Culmen\": 0.6909090909090909, \"Flipper\": 0.8135593220338984, \"Species\": 2}, {\"Culmen\": 0.6145454545454545, \"Flipper\": 0.6779661016949152, \"Species\": 1}, {\"Culmen\": 0.7745454545454544, \"Flipper\": 0.7966101694915254, \"Species\": 2}, {\"Culmen\": 0.6690909090909091, \"Flipper\": 0.7457627118644068, \"Species\": 2}, {\"Culmen\": 0.4254545454545453, \"Flipper\": 0.6101694915254238, \"Species\": 2}, {\"Culmen\": 0.11272727272727277, \"Flipper\": 0.23728813559322035, \"Species\": 0}, {\"Culmen\": 0.5563636363636363, \"Flipper\": 0.6779661016949152, \"Species\": 2}, {\"Culmen\": 0.7418181818181818, \"Flipper\": 0.8305084745762712, \"Species\": 2}, {\"Culmen\": 0.2763636363636364, \"Flipper\": 0.3050847457627119, \"Species\": 0}, {\"Culmen\": 0.19636363636363632, \"Flipper\": 0.4576271186440678, \"Species\": 0}, {\"Culmen\": 0.32727272727272727, \"Flipper\": 0.2711864406779661, \"Species\": 0}, {\"Culmen\": 0.6690909090909091, \"Flipper\": 0.8983050847457628, \"Species\": 2}, {\"Culmen\": 0.7236363636363636, \"Flipper\": 0.6440677966101694, \"Species\": 1}, {\"Culmen\": 0.13090909090909095, \"Flipper\": 0.5084745762711864, \"Species\": 0}, {\"Culmen\": 0.26909090909090905, \"Flipper\": 0.2711864406779661, \"Species\": 0}, {\"Culmen\": 0.9418181818181818, \"Flipper\": 0.15254237288135594, \"Species\": 1}, {\"Culmen\": 0.2072727272727271, \"Flipper\": 0.13559322033898305, \"Species\": 0}, {\"Culmen\": 0.4072727272727271, \"Flipper\": 0.6101694915254238, \"Species\": 2}, {\"Culmen\": 0.5272727272727272, \"Flipper\": 0.3559322033898305, \"Species\": 1}, {\"Culmen\": 0.6545454545454545, \"Flipper\": 0.8983050847457628, \"Species\": 2}, {\"Culmen\": 0.8072727272727271, \"Flipper\": 1.0, \"Species\": 2}, {\"Culmen\": 0.3854545454545455, \"Flipper\": 0.4067796610169492, \"Species\": 0}, {\"Culmen\": 0.3199999999999999, \"Flipper\": 0.3220338983050847, \"Species\": 0}, {\"Culmen\": 0.6436363636363635, \"Flipper\": 0.9661016949152542, \"Species\": 2}, {\"Culmen\": 0.25090909090909086, \"Flipper\": 0.3220338983050847, \"Species\": 0}, {\"Culmen\": 0.16727272727272732, \"Flipper\": 0.2542372881355932, \"Species\": 0}, {\"Culmen\": 0.3781818181818181, \"Flipper\": 0.2542372881355932, \"Species\": 1}]}}, {\"mode\": \"vega-lite\"});\n",
       "</script>"
      ],
      "text/plain": [
       "alt.Chart(...)"
      ]
     },
     "execution_count": 25,
     "metadata": {},
     "output_type": "execute_result"
    }
   ],
   "source": [
    "#display chart\n",
    "train_plot"
   ]
  },
  {
   "cell_type": "code",
   "execution_count": 26,
   "metadata": {},
   "outputs": [
    {
     "data": {
      "text/html": [
       "\n",
       "<div id=\"altair-viz-616a3613aaf04269bf86fff7bb9600b0\"></div>\n",
       "<script type=\"text/javascript\">\n",
       "  (function(spec, embedOpt){\n",
       "    let outputDiv = document.currentScript.previousElementSibling;\n",
       "    if (outputDiv.id !== \"altair-viz-616a3613aaf04269bf86fff7bb9600b0\") {\n",
       "      outputDiv = document.getElementById(\"altair-viz-616a3613aaf04269bf86fff7bb9600b0\");\n",
       "    }\n",
       "    const paths = {\n",
       "      \"vega\": \"https://cdn.jsdelivr.net/npm//vega@5?noext\",\n",
       "      \"vega-lib\": \"https://cdn.jsdelivr.net/npm//vega-lib?noext\",\n",
       "      \"vega-lite\": \"https://cdn.jsdelivr.net/npm//vega-lite@4.8.1?noext\",\n",
       "      \"vega-embed\": \"https://cdn.jsdelivr.net/npm//vega-embed@6?noext\",\n",
       "    };\n",
       "\n",
       "    function loadScript(lib) {\n",
       "      return new Promise(function(resolve, reject) {\n",
       "        var s = document.createElement('script');\n",
       "        s.src = paths[lib];\n",
       "        s.async = true;\n",
       "        s.onload = () => resolve(paths[lib]);\n",
       "        s.onerror = () => reject(`Error loading script: ${paths[lib]}`);\n",
       "        document.getElementsByTagName(\"head\")[0].appendChild(s);\n",
       "      });\n",
       "    }\n",
       "\n",
       "    function showError(err) {\n",
       "      outputDiv.innerHTML = `<div class=\"error\" style=\"color:red;\">${err}</div>`;\n",
       "      throw err;\n",
       "    }\n",
       "\n",
       "    function displayChart(vegaEmbed) {\n",
       "      vegaEmbed(outputDiv, spec, embedOpt)\n",
       "        .catch(err => showError(`Javascript Error: ${err.message}<br>This usually means there's a typo in your chart specification. See the javascript console for the full traceback.`));\n",
       "    }\n",
       "\n",
       "    if(typeof define === \"function\" && define.amd) {\n",
       "      requirejs.config({paths});\n",
       "      require([\"vega-embed\"], displayChart, err => showError(`Error loading script: ${err.message}`));\n",
       "    } else if (typeof vegaEmbed === \"function\") {\n",
       "      displayChart(vegaEmbed);\n",
       "    } else {\n",
       "      loadScript(\"vega\")\n",
       "        .then(() => loadScript(\"vega-lite\"))\n",
       "        .then(() => loadScript(\"vega-embed\"))\n",
       "        .catch(showError)\n",
       "        .then(() => displayChart(vegaEmbed));\n",
       "    }\n",
       "  })({\"config\": {\"view\": {\"continuousWidth\": 400, \"continuousHeight\": 300}}, \"layer\": [{\"data\": {\"name\": \"data-406cd6233abcaf14e76b2da94c1085a0\"}, \"mark\": \"point\", \"encoding\": {\"color\": {\"type\": \"nominal\", \"field\": \"Species\"}, \"x\": {\"type\": \"quantitative\", \"field\": \"Culmen\"}, \"y\": {\"type\": \"quantitative\", \"field\": \"Flipper\"}}, \"title\": \"Penguins in Training Dataset\"}, {\"data\": {\"name\": \"data-f515d0cf862ecab2ecb32e22e9c519b9\"}, \"mark\": {\"type\": \"circle\", \"color\": \"black\", \"size\": 100}, \"encoding\": {\"x\": {\"type\": \"quantitative\", \"field\": \"Culmen\"}, \"y\": {\"type\": \"quantitative\", \"field\": \"Flipper\"}}}, {\"data\": {\"name\": \"data-f515d0cf862ecab2ecb32e22e9c519b9\"}, \"mark\": {\"type\": \"circle\", \"color\": \"black\", \"opacity\": 0.2, \"size\": 3000}, \"encoding\": {\"x\": {\"type\": \"quantitative\", \"field\": \"Culmen\"}, \"y\": {\"type\": \"quantitative\", \"field\": \"Flipper\"}}}], \"$schema\": \"https://vega.github.io/schema/vega-lite/v4.8.1.json\", \"datasets\": {\"data-406cd6233abcaf14e76b2da94c1085a0\": [{\"Culmen\": 0.3090909090909091, \"Flipper\": 0.2542372881355932, \"Species\": 0}, {\"Culmen\": 0.4727272727272727, \"Flipper\": 0.7288135593220338, \"Species\": 2}, {\"Culmen\": 0.5599999999999999, \"Flipper\": 0.6271186440677966, \"Species\": 2}, {\"Culmen\": 0.08727272727272722, \"Flipper\": 0.2542372881355932, \"Species\": 0}, {\"Culmen\": 0.31636363636363624, \"Flipper\": 0.3898305084745763, \"Species\": 0}, {\"Culmen\": 0.15636363636363626, \"Flipper\": 0.2033898305084746, \"Species\": 0}, {\"Culmen\": 0.498181818181818, \"Flipper\": 0.6440677966101694, \"Species\": 2}, {\"Culmen\": 0.530909090909091, \"Flipper\": 0.3898305084745763, \"Species\": 1}, {\"Culmen\": 0.6327272727272727, \"Flipper\": 0.8813559322033898, \"Species\": 2}, {\"Culmen\": 0.6509090909090909, \"Flipper\": 0.8813559322033898, \"Species\": 2}, {\"Culmen\": 0.2763636363636364, \"Flipper\": 0.3559322033898305, \"Species\": 0}, {\"Culmen\": 0.2072727272727271, \"Flipper\": 0.23728813559322035, \"Species\": 0}, {\"Culmen\": 0.6218181818181818, \"Flipper\": 0.8305084745762712, \"Species\": 2}, {\"Culmen\": 0.5927272727272727, \"Flipper\": 0.5254237288135594, \"Species\": 2}, {\"Culmen\": 0.3854545454545455, \"Flipper\": 0.6101694915254238, \"Species\": 2}, {\"Culmen\": 0.29818181818181805, \"Flipper\": 0.4067796610169492, \"Species\": 0}, {\"Culmen\": 0.13818181818181807, \"Flipper\": 0.3050847457627119, \"Species\": 0}, {\"Culmen\": 0.2109090909090908, \"Flipper\": 0.0, \"Species\": 0}, {\"Culmen\": 0.21818181818181817, \"Flipper\": 0.3050847457627119, \"Species\": 0}, {\"Culmen\": 0.6799999999999998, \"Flipper\": 0.9152542372881356, \"Species\": 2}, {\"Culmen\": 0.1854545454545455, \"Flipper\": 0.1016949152542373, \"Species\": 0}, {\"Culmen\": 0.47636363636363643, \"Flipper\": 0.6779661016949152, \"Species\": 2}, {\"Culmen\": 0.6509090909090909, \"Flipper\": 0.8135593220338984, \"Species\": 2}, {\"Culmen\": 0.5345454545454544, \"Flipper\": 0.7288135593220338, \"Species\": 2}, {\"Culmen\": 0.5709090909090907, \"Flipper\": 0.7288135593220338, \"Species\": 2}, {\"Culmen\": 0.4909090909090909, \"Flipper\": 0.3220338983050847, \"Species\": 0}, {\"Culmen\": 0.25090909090909086, \"Flipper\": 0.23728813559322035, \"Species\": 0}, {\"Culmen\": 0.6036363636363636, \"Flipper\": 0.6101694915254238, \"Species\": 2}, {\"Culmen\": 0.3199999999999999, \"Flipper\": 0.2033898305084746, \"Species\": 0}, {\"Culmen\": 0.5236363636363636, \"Flipper\": 0.6440677966101694, \"Species\": 2}, {\"Culmen\": 0.6799999999999998, \"Flipper\": 0.4915254237288136, \"Species\": 1}, {\"Culmen\": 0.07272727272727272, \"Flipper\": 0.3559322033898305, \"Species\": 0}, {\"Culmen\": 0.26909090909090905, \"Flipper\": 0.1016949152542373, \"Species\": 0}, {\"Culmen\": 0.698181818181818, \"Flipper\": 0.7796610169491526, \"Species\": 2}, {\"Culmen\": 0.33454545454545437, \"Flipper\": 0.3898305084745763, \"Species\": 0}, {\"Culmen\": 0.32727272727272727, \"Flipper\": 0.1694915254237288, \"Species\": 0}, {\"Culmen\": 0.2763636363636364, \"Flipper\": 0.2033898305084746, \"Species\": 0}, {\"Culmen\": 0.36363636363636365, \"Flipper\": 0.3898305084745763, \"Species\": 0}, {\"Culmen\": 0.2763636363636364, \"Flipper\": 0.3559322033898305, \"Species\": 0}, {\"Culmen\": 0.43636363636363634, \"Flipper\": 0.4067796610169492, \"Species\": 0}, {\"Culmen\": 0.6763636363636364, \"Flipper\": 0.5254237288135594, \"Species\": 1}, {\"Culmen\": 0.3781818181818181, \"Flipper\": 0.423728813559322, \"Species\": 0}, {\"Culmen\": 0.47636363636363643, \"Flipper\": 0.3220338983050847, \"Species\": 1}, {\"Culmen\": 0.48727272727272725, \"Flipper\": 0.4067796610169492, \"Species\": 1}, {\"Culmen\": 0.7199999999999999, \"Flipper\": 0.576271186440678, \"Species\": 1}, {\"Culmen\": 0.5345454545454544, \"Flipper\": 0.7288135593220338, \"Species\": 2}, {\"Culmen\": 0.39272727272727265, \"Flipper\": 0.4067796610169492, \"Species\": 0}, {\"Culmen\": 0.3381818181818181, \"Flipper\": 0.5084745762711864, \"Species\": 0}, {\"Culmen\": 0.12363636363636359, \"Flipper\": 0.3050847457627119, \"Species\": 0}, {\"Culmen\": 0.5490909090909092, \"Flipper\": 0.7288135593220338, \"Species\": 2}, {\"Culmen\": 0.22181818181818186, \"Flipper\": 0.22033898305084745, \"Species\": 0}, {\"Culmen\": 0.12727272727272726, \"Flipper\": 0.3220338983050847, \"Species\": 0}, {\"Culmen\": 0.6472727272727272, \"Flipper\": 0.6949152542372882, \"Species\": 2}, {\"Culmen\": 0.6581818181818182, \"Flipper\": 0.4406779661016949, \"Species\": 1}, {\"Culmen\": 0.14181818181818176, \"Flipper\": 0.2542372881355932, \"Species\": 0}, {\"Culmen\": 0.3781818181818181, \"Flipper\": 0.2542372881355932, \"Species\": 1}, {\"Culmen\": 0.24727272727272717, \"Flipper\": 0.15254237288135594, \"Species\": 0}, {\"Culmen\": 0.26181818181818167, \"Flipper\": 0.3050847457627119, \"Species\": 0}, {\"Culmen\": 0.3236363636363636, \"Flipper\": 0.5254237288135594, \"Species\": 0}, {\"Culmen\": 0.17454545454545445, \"Flipper\": 0.288135593220339, \"Species\": 0}, {\"Culmen\": 0.10909090909090909, \"Flipper\": 0.3559322033898305, \"Species\": 0}, {\"Culmen\": 0.14181818181818176, \"Flipper\": 0.3050847457627119, \"Species\": 0}, {\"Culmen\": 0.5527272727272726, \"Flipper\": 0.847457627118644, \"Species\": 2}, {\"Culmen\": 0.4109090909090908, \"Flipper\": 0.7796610169491526, \"Species\": 2}, {\"Culmen\": 0.498181818181818, \"Flipper\": 0.423728813559322, \"Species\": 0}, {\"Culmen\": 0.6618181818181816, \"Flipper\": 0.423728813559322, \"Species\": 1}, {\"Culmen\": 0.15999999999999995, \"Flipper\": 0.1694915254237288, \"Species\": 0}, {\"Culmen\": 0.14909090909090914, \"Flipper\": 0.2542372881355932, \"Species\": 0}, {\"Culmen\": 0.5127272727272728, \"Flipper\": 0.711864406779661, \"Species\": 2}, {\"Culmen\": 0.5927272727272727, \"Flipper\": 0.6949152542372882, \"Species\": 2}, {\"Culmen\": 0.23636363636363636, \"Flipper\": 0.3220338983050847, \"Species\": 0}, {\"Culmen\": 0.15636363636363626, \"Flipper\": 0.3898305084745763, \"Species\": 0}, {\"Culmen\": 0.45090909090909087, \"Flipper\": 0.7457627118644068, \"Species\": 2}, {\"Culmen\": 0.5054545454545454, \"Flipper\": 0.3728813559322034, \"Species\": 0}, {\"Culmen\": 0.3490909090909091, \"Flipper\": 0.6440677966101694, \"Species\": 2}, {\"Culmen\": 0.4145454545454545, \"Flipper\": 0.6949152542372882, \"Species\": 2}, {\"Culmen\": 0.5490909090909092, \"Flipper\": 0.711864406779661, \"Species\": 2}, {\"Culmen\": 0.698181818181818, \"Flipper\": 0.423728813559322, \"Species\": 1}, {\"Culmen\": 0.6654545454545453, \"Flipper\": 0.8813559322033898, \"Species\": 2}, {\"Culmen\": 0.6872727272727273, \"Flipper\": 0.5254237288135594, \"Species\": 1}, {\"Culmen\": 0.698181818181818, \"Flipper\": 0.4406779661016949, \"Species\": 1}, {\"Culmen\": 0.08363636363636354, \"Flipper\": 0.2033898305084746, \"Species\": 0}, {\"Culmen\": 0.7018181818181817, \"Flipper\": 0.4915254237288136, \"Species\": 1}, {\"Culmen\": 0.37454545454545446, \"Flipper\": 0.15254237288135594, \"Species\": 1}, {\"Culmen\": 0.5963636363636363, \"Flipper\": 0.7966101694915254, \"Species\": 2}, {\"Culmen\": 0.15272727272727257, \"Flipper\": 0.3050847457627119, \"Species\": 0}, {\"Culmen\": 0.8363636363636363, \"Flipper\": 0.9830508474576272, \"Species\": 2}, {\"Culmen\": 0.24363636363636348, \"Flipper\": 0.3220338983050847, \"Species\": 0}, {\"Culmen\": 0.5199999999999999, \"Flipper\": 0.8305084745762712, \"Species\": 2}, {\"Culmen\": 0.2727272727272727, \"Flipper\": 0.23728813559322035, \"Species\": 0}, {\"Culmen\": 0.5963636363636363, \"Flipper\": 0.8135593220338984, \"Species\": 2}, {\"Culmen\": 0.29818181818181805, \"Flipper\": 0.3898305084745763, \"Species\": 0}, {\"Culmen\": 0.6799999999999998, \"Flipper\": 0.6440677966101694, \"Species\": 1}, {\"Culmen\": 0.7527272727272726, \"Flipper\": 0.559322033898305, \"Species\": 1}, {\"Culmen\": 0.23636363636363636, \"Flipper\": 0.2711864406779661, \"Species\": 0}, {\"Culmen\": 0.35999999999999993, \"Flipper\": 0.3050847457627119, \"Species\": 0}, {\"Culmen\": 0.6145454545454545, \"Flipper\": 0.6440677966101694, \"Species\": 1}, {\"Culmen\": 0.5527272727272726, \"Flipper\": 0.7457627118644068, \"Species\": 2}, {\"Culmen\": 0.48727272727272725, \"Flipper\": 0.8135593220338984, \"Species\": 2}, {\"Culmen\": 0.5054545454545454, \"Flipper\": 0.3898305084745763, \"Species\": 1}, {\"Culmen\": 0.7127272727272728, \"Flipper\": 0.3728813559322034, \"Species\": 1}, {\"Culmen\": 0.32727272727272727, \"Flipper\": 0.3389830508474576, \"Species\": 0}, {\"Culmen\": 0.4036363636363637, \"Flipper\": 0.3389830508474576, \"Species\": 0}, {\"Culmen\": 0.5236363636363636, \"Flipper\": 0.7627118644067796, \"Species\": 2}, {\"Culmen\": 0.498181818181818, \"Flipper\": 0.7966101694915254, \"Species\": 2}, {\"Culmen\": 0.4909090909090909, \"Flipper\": 0.3728813559322034, \"Species\": 1}, {\"Culmen\": 0.4072727272727271, \"Flipper\": 0.6271186440677966, \"Species\": 2}, {\"Culmen\": 0.8618181818181817, \"Flipper\": 0.5932203389830508, \"Species\": 1}, {\"Culmen\": 0.6509090909090909, \"Flipper\": 0.7796610169491526, \"Species\": 2}, {\"Culmen\": 0.31636363636363624, \"Flipper\": 0.6101694915254238, \"Species\": 0}, {\"Culmen\": 0.46545454545454534, \"Flipper\": 0.6779661016949152, \"Species\": 2}, {\"Culmen\": 0.48363636363636353, \"Flipper\": 0.6610169491525424, \"Species\": 2}, {\"Culmen\": 0.33454545454545437, \"Flipper\": 0.3728813559322034, \"Species\": 0}, {\"Culmen\": 0.14181818181818176, \"Flipper\": 0.3898305084745763, \"Species\": 0}, {\"Culmen\": 0.6436363636363635, \"Flipper\": 0.9830508474576272, \"Species\": 2}, {\"Culmen\": 0.11636363636363621, \"Flipper\": 0.2542372881355932, \"Species\": 0}, {\"Culmen\": 0.6436363636363635, \"Flipper\": 0.4406779661016949, \"Species\": 1}, {\"Culmen\": 0.35272727272727256, \"Flipper\": 0.4406779661016949, \"Species\": 0}, {\"Culmen\": 0.17818181818181814, \"Flipper\": 0.22033898305084745, \"Species\": 0}, {\"Culmen\": 0.6690909090909091, \"Flipper\": 0.847457627118644, \"Species\": 2}, {\"Culmen\": 0.48727272727272725, \"Flipper\": 0.6440677966101694, \"Species\": 2}, {\"Culmen\": 0.39272727272727265, \"Flipper\": 0.7288135593220338, \"Species\": 2}, {\"Culmen\": 0.5854545454545456, \"Flipper\": 0.6440677966101694, \"Species\": 2}, {\"Culmen\": 0.25818181818181823, \"Flipper\": 0.4067796610169492, \"Species\": 0}, {\"Culmen\": 0.34181818181818174, \"Flipper\": 0.3898305084745763, \"Species\": 0}, {\"Culmen\": 0.7236363636363636, \"Flipper\": 0.4915254237288136, \"Species\": 1}, {\"Culmen\": 0.6363636363636364, \"Flipper\": 0.3559322033898305, \"Species\": 1}, {\"Culmen\": 0.18909090909090895, \"Flipper\": 0.3220338983050847, \"Species\": 0}, {\"Culmen\": 0.32727272727272727, \"Flipper\": 0.1694915254237288, \"Species\": 0}, {\"Culmen\": 0.1854545454545455, \"Flipper\": 0.2033898305084746, \"Species\": 0}, {\"Culmen\": 0.7236363636363636, \"Flipper\": 0.423728813559322, \"Species\": 1}, {\"Culmen\": 0.6727272727272727, \"Flipper\": 0.3559322033898305, \"Species\": 1}, {\"Culmen\": 0.5636363636363636, \"Flipper\": 0.3898305084745763, \"Species\": 1}, {\"Culmen\": 0.4945454545454546, \"Flipper\": 0.711864406779661, \"Species\": 2}, {\"Culmen\": 0.3054545454545454, \"Flipper\": 0.2542372881355932, \"Species\": 0}, {\"Culmen\": 0.32727272727272727, \"Flipper\": 0.3050847457627119, \"Species\": 0}, {\"Culmen\": 0.509090909090909, \"Flipper\": 0.6610169491525424, \"Species\": 2}, {\"Culmen\": 0.13090909090909095, \"Flipper\": 0.288135593220339, \"Species\": 0}, {\"Culmen\": 0.509090909090909, \"Flipper\": 0.7288135593220338, \"Species\": 2}, {\"Culmen\": 0.48727272727272725, \"Flipper\": 0.711864406779661, \"Species\": 2}, {\"Culmen\": 0.3090909090909091, \"Flipper\": 0.3559322033898305, \"Species\": 0}, {\"Culmen\": 0.5236363636363636, \"Flipper\": 0.6949152542372882, \"Species\": 2}, {\"Culmen\": 0.48363636363636353, \"Flipper\": 0.2711864406779661, \"Species\": 1}, {\"Culmen\": 0.27999999999999986, \"Flipper\": 0.2033898305084746, \"Species\": 0}, {\"Culmen\": 0.47636363636363643, \"Flipper\": 0.7288135593220338, \"Species\": 2}, {\"Culmen\": 0.6181818181818182, \"Flipper\": 0.8135593220338984, \"Species\": 2}, {\"Culmen\": 0.41818181818181815, \"Flipper\": 0.7627118644067796, \"Species\": 2}, {\"Culmen\": 0.5127272727272728, \"Flipper\": 0.8305084745762712, \"Species\": 2}, {\"Culmen\": 0.2945454545454546, \"Flipper\": 0.3559322033898305, \"Species\": 0}, {\"Culmen\": 0.2545454545454545, \"Flipper\": 0.15254237288135594, \"Species\": 0}, {\"Culmen\": 0.5599999999999999, \"Flipper\": 0.7796610169491526, \"Species\": 2}, {\"Culmen\": 0.21818181818181817, \"Flipper\": 0.4406779661016949, \"Species\": 0}, {\"Culmen\": 0.2036363636363637, \"Flipper\": 0.1864406779661017, \"Species\": 0}, {\"Culmen\": 0.38181818181818183, \"Flipper\": 0.6949152542372882, \"Species\": 2}, {\"Culmen\": 0.25818181818181823, \"Flipper\": 0.3898305084745763, \"Species\": 0}, {\"Culmen\": 0.6181818181818182, \"Flipper\": 0.9491525423728814, \"Species\": 2}, {\"Culmen\": 0.43636363636363634, \"Flipper\": 0.6440677966101694, \"Species\": 0}, {\"Culmen\": 0.18909090909090895, \"Flipper\": 0.3389830508474576, \"Species\": 0}, {\"Culmen\": 0.17090909090909076, \"Flipper\": 0.3559322033898305, \"Species\": 0}, {\"Culmen\": 0.730909090909091, \"Flipper\": 0.9491525423728814, \"Species\": 2}, {\"Culmen\": 0.4036363636363637, \"Flipper\": 0.423728813559322, \"Species\": 0}, {\"Culmen\": 0.5127272727272728, \"Flipper\": 0.7627118644067796, \"Species\": 2}, {\"Culmen\": 0.09090909090909091, \"Flipper\": 0.4406779661016949, \"Species\": 0}, {\"Culmen\": 0.4327272727272727, \"Flipper\": 0.6101694915254238, \"Species\": 2}, {\"Culmen\": 0.2072727272727271, \"Flipper\": 0.03389830508474576, \"Species\": 0}, {\"Culmen\": 0.2036363636363637, \"Flipper\": 0.4406779661016949, \"Species\": 0}, {\"Culmen\": 0.45090909090909087, \"Flipper\": 0.711864406779661, \"Species\": 2}, {\"Culmen\": 0.47999999999999987, \"Flipper\": 0.6440677966101694, \"Species\": 2}, {\"Culmen\": 0.7054545454545454, \"Flipper\": 0.9830508474576272, \"Species\": 2}, {\"Culmen\": 0.4727272727272727, \"Flipper\": 0.5932203389830508, \"Species\": 2}, {\"Culmen\": 0.698181818181818, \"Flipper\": 0.3559322033898305, \"Species\": 1}, {\"Culmen\": 0.64, \"Flipper\": 0.3898305084745763, \"Species\": 1}, {\"Culmen\": 0.14909090909090914, \"Flipper\": 0.2542372881355932, \"Species\": 0}, {\"Culmen\": 0.6581818181818182, \"Flipper\": 0.7796610169491526, \"Species\": 2}, {\"Culmen\": 0.12363636363636359, \"Flipper\": 0.3898305084745763, \"Species\": 0}, {\"Culmen\": 0.5818181818181818, \"Flipper\": 0.6271186440677966, \"Species\": 2}, {\"Culmen\": 0.530909090909091, \"Flipper\": 0.7966101694915254, \"Species\": 2}, {\"Culmen\": 0.24363636363636348, \"Flipper\": 0.13559322033898305, \"Species\": 0}, {\"Culmen\": 0.2945454545454546, \"Flipper\": 0.4745762711864407, \"Species\": 0}, {\"Culmen\": 0.17818181818181814, \"Flipper\": 0.22033898305084745, \"Species\": 0}, {\"Culmen\": 0.7781818181818181, \"Flipper\": 0.559322033898305, \"Species\": 1}, {\"Culmen\": 0.6690909090909091, \"Flipper\": 0.4915254237288136, \"Species\": 1}, {\"Culmen\": 0.5199999999999999, \"Flipper\": 0.3050847457627119, \"Species\": 1}, {\"Culmen\": 0.7490909090909091, \"Flipper\": 0.423728813559322, \"Species\": 1}, {\"Culmen\": 0.34545454545454546, \"Flipper\": 0.3389830508474576, \"Species\": 0}, {\"Culmen\": 0.3090909090909091, \"Flipper\": 0.1864406779661017, \"Species\": 0}, {\"Culmen\": 0.21818181818181817, \"Flipper\": 0.2542372881355932, \"Species\": 0}, {\"Culmen\": 0.5636363636363636, \"Flipper\": 0.7288135593220338, \"Species\": 2}, {\"Culmen\": 0.1054545454545454, \"Flipper\": 0.3050847457627119, \"Species\": 0}, {\"Culmen\": 0.050909090909090855, \"Flipper\": 0.3050847457627119, \"Species\": 0}, {\"Culmen\": 0.6545454545454545, \"Flipper\": 0.3050847457627119, \"Species\": 1}, {\"Culmen\": 0.2727272727272727, \"Flipper\": 0.3050847457627119, \"Species\": 0}, {\"Culmen\": 0.3672727272727273, \"Flipper\": 0.13559322033898305, \"Species\": 0}, {\"Culmen\": 0.6690909090909091, \"Flipper\": 0.4745762711864407, \"Species\": 1}, {\"Culmen\": 0.5236363636363636, \"Flipper\": 0.3389830508474576, \"Species\": 1}, {\"Culmen\": 0.2727272727272727, \"Flipper\": 0.3220338983050847, \"Species\": 0}, {\"Culmen\": 0.6181818181818182, \"Flipper\": 0.6779661016949152, \"Species\": 2}, {\"Culmen\": 0.3127272727272728, \"Flipper\": 0.3050847457627119, \"Species\": 0}, {\"Culmen\": 1.0, \"Flipper\": 0.9830508474576272, \"Species\": 2}, {\"Culmen\": 0.23636363636363636, \"Flipper\": 0.4576271186440678, \"Species\": 0}, {\"Culmen\": 0.6654545454545453, \"Flipper\": 0.847457627118644, \"Species\": 2}, {\"Culmen\": 0.25090909090909086, \"Flipper\": 0.22033898305084745, \"Species\": 0}, {\"Culmen\": 0.6254545454545453, \"Flipper\": 0.5254237288135594, \"Species\": 1}, {\"Culmen\": 0.5599999999999999, \"Flipper\": 0.6779661016949152, \"Species\": 2}, {\"Culmen\": 0.47636363636363643, \"Flipper\": 0.7288135593220338, \"Species\": 2}, {\"Culmen\": 0.5672727272727274, \"Flipper\": 0.7457627118644068, \"Species\": 2}, {\"Culmen\": 0.730909090909091, \"Flipper\": 0.423728813559322, \"Species\": 1}, {\"Culmen\": 0.5381818181818181, \"Flipper\": 0.3389830508474576, \"Species\": 1}, {\"Culmen\": 0.3199999999999999, \"Flipper\": 0.2542372881355932, \"Species\": 1}, {\"Culmen\": 0.5272727272727272, \"Flipper\": 0.6440677966101694, \"Species\": 2}, {\"Culmen\": 0.4945454545454546, \"Flipper\": 0.3898305084745763, \"Species\": 1}, {\"Culmen\": 0.24363636363636348, \"Flipper\": 0.3050847457627119, \"Species\": 0}, {\"Culmen\": 0.6, \"Flipper\": 0.9830508474576272, \"Species\": 2}, {\"Culmen\": 0.24000000000000005, \"Flipper\": 0.3898305084745763, \"Species\": 0}, {\"Culmen\": 0.4145454545454545, \"Flipper\": 0.5084745762711864, \"Species\": 1}, {\"Culmen\": 0.6363636363636364, \"Flipper\": 0.8983050847457628, \"Species\": 2}, {\"Culmen\": 0.47999999999999987, \"Flipper\": 0.6101694915254238, \"Species\": 2}, {\"Culmen\": 0.16727272727272732, \"Flipper\": 0.3559322033898305, \"Species\": 0}, {\"Culmen\": 0.6145454545454545, \"Flipper\": 0.7457627118644068, \"Species\": 2}, {\"Culmen\": 0.3054545454545454, \"Flipper\": 0.13559322033898305, \"Species\": 0}, {\"Culmen\": 0.3672727272727273, \"Flipper\": 0.423728813559322, \"Species\": 0}, {\"Culmen\": 0.3090909090909091, \"Flipper\": 0.4576271186440678, \"Species\": 0}, {\"Culmen\": 0.16363636363636364, \"Flipper\": 0.2033898305084746, \"Species\": 0}, {\"Culmen\": 0.5345454545454544, \"Flipper\": 0.288135593220339, \"Species\": 1}, {\"Culmen\": 0.03636363636363636, \"Flipper\": 0.1016949152542373, \"Species\": 0}, {\"Culmen\": 0.7054545454545454, \"Flipper\": 0.2542372881355932, \"Species\": 1}, {\"Culmen\": 0.46545454545454534, \"Flipper\": 0.6949152542372882, \"Species\": 2}, {\"Culmen\": 0.6218181818181818, \"Flipper\": 0.3898305084745763, \"Species\": 1}, {\"Culmen\": 0.8654545454545454, \"Flipper\": 0.9491525423728814, \"Species\": 2}, {\"Culmen\": 0.6909090909090909, \"Flipper\": 0.8135593220338984, \"Species\": 2}, {\"Culmen\": 0.6145454545454545, \"Flipper\": 0.6779661016949152, \"Species\": 1}, {\"Culmen\": 0.7745454545454544, \"Flipper\": 0.7966101694915254, \"Species\": 2}, {\"Culmen\": 0.6690909090909091, \"Flipper\": 0.7457627118644068, \"Species\": 2}, {\"Culmen\": 0.4254545454545453, \"Flipper\": 0.6101694915254238, \"Species\": 2}, {\"Culmen\": 0.11272727272727277, \"Flipper\": 0.23728813559322035, \"Species\": 0}, {\"Culmen\": 0.5563636363636363, \"Flipper\": 0.6779661016949152, \"Species\": 2}, {\"Culmen\": 0.7418181818181818, \"Flipper\": 0.8305084745762712, \"Species\": 2}, {\"Culmen\": 0.2763636363636364, \"Flipper\": 0.3050847457627119, \"Species\": 0}, {\"Culmen\": 0.19636363636363632, \"Flipper\": 0.4576271186440678, \"Species\": 0}, {\"Culmen\": 0.32727272727272727, \"Flipper\": 0.2711864406779661, \"Species\": 0}, {\"Culmen\": 0.6690909090909091, \"Flipper\": 0.8983050847457628, \"Species\": 2}, {\"Culmen\": 0.7236363636363636, \"Flipper\": 0.6440677966101694, \"Species\": 1}, {\"Culmen\": 0.13090909090909095, \"Flipper\": 0.5084745762711864, \"Species\": 0}, {\"Culmen\": 0.26909090909090905, \"Flipper\": 0.2711864406779661, \"Species\": 0}, {\"Culmen\": 0.9418181818181818, \"Flipper\": 0.15254237288135594, \"Species\": 1}, {\"Culmen\": 0.2072727272727271, \"Flipper\": 0.13559322033898305, \"Species\": 0}, {\"Culmen\": 0.4072727272727271, \"Flipper\": 0.6101694915254238, \"Species\": 2}, {\"Culmen\": 0.5272727272727272, \"Flipper\": 0.3559322033898305, \"Species\": 1}, {\"Culmen\": 0.6545454545454545, \"Flipper\": 0.8983050847457628, \"Species\": 2}, {\"Culmen\": 0.8072727272727271, \"Flipper\": 1.0, \"Species\": 2}, {\"Culmen\": 0.3854545454545455, \"Flipper\": 0.4067796610169492, \"Species\": 0}, {\"Culmen\": 0.3199999999999999, \"Flipper\": 0.3220338983050847, \"Species\": 0}, {\"Culmen\": 0.6436363636363635, \"Flipper\": 0.9661016949152542, \"Species\": 2}, {\"Culmen\": 0.25090909090909086, \"Flipper\": 0.3220338983050847, \"Species\": 0}, {\"Culmen\": 0.16727272727272732, \"Flipper\": 0.2542372881355932, \"Species\": 0}, {\"Culmen\": 0.3781818181818181, \"Flipper\": 0.2542372881355932, \"Species\": 1}], \"data-f515d0cf862ecab2ecb32e22e9c519b9\": [{\"Culmen\": 0.45, \"Flipper\": 0.55}]}}, {\"mode\": \"vega-lite\"});\n",
       "</script>"
      ],
      "text/plain": [
       "alt.LayerChart(...)"
      ]
     },
     "execution_count": 26,
     "metadata": {},
     "output_type": "execute_result"
    }
   ],
   "source": [
    "#scatterplot of training data with fake test point for illustration purposes\n",
    "point_df = pd.DataFrame(data={'Culmen':[.45], 'Flipper':[.55]})\n",
    "\n",
    "test_point = alt.Chart(point_df).mark_circle(color='black', size=100).encode(\n",
    "                 x='Culmen', y='Flipper')\n",
    "\n",
    "test_point2 = alt.Chart(point_df).mark_circle(color='black', size=3000, opacity=.2).encode(\n",
    "                  x='Culmen', y='Flipper')\n",
    "\n",
    "train_plot + test_point + test_point2"
   ]
  },
  {
   "cell_type": "markdown",
   "metadata": {},
   "source": [
    "## Find Optimal Number of Neighbors Using GridSearchCV"
   ]
  },
  {
   "cell_type": "code",
   "execution_count": 27,
   "metadata": {},
   "outputs": [],
   "source": [
    "#create KNN classifier\n",
    "knn = KNeighborsClassifier()"
   ]
  },
  {
   "cell_type": "code",
   "execution_count": 28,
   "metadata": {},
   "outputs": [
    {
     "name": "stdout",
     "output_type": "stream",
     "text": [
      "The numbers tested for k will be: [1, 3, 5, 7, 9, 11, 13, 15, 17, 19, 21, 23, 25, 27, 29]\n"
     ]
    }
   ],
   "source": [
    "#create list of numbers of neighbors to test\n",
    "k_list = list(range(1,31,2))\n",
    "print('The numbers tested for k will be:', k_list)"
   ]
  },
  {
   "cell_type": "code",
   "execution_count": 29,
   "metadata": {},
   "outputs": [],
   "source": [
    "#create grid\n",
    "params = dict(n_neighbors = k_list)\n",
    "grid = GridSearchCV(knn, params, cv=10, scoring='accuracy')"
   ]
  },
  {
   "cell_type": "code",
   "execution_count": 30,
   "metadata": {},
   "outputs": [],
   "source": [
    "#fit grid on data\n",
    "gs = grid.fit(X_train, y_train)"
   ]
  },
  {
   "cell_type": "code",
   "execution_count": 31,
   "metadata": {},
   "outputs": [
    {
     "data": {
      "image/png": "[encoded data removed]",
      "text/plain": [
       "<Figure size 432x288 with 1 Axes>"
      ]
     },
     "metadata": {
      "needs_background": "light"
     },
     "output_type": "display_data"
    }
   ],
   "source": [
    "#plot results\n",
    "plt.plot(k_list,gs.cv_results_['mean_test_score'])\n",
    "plt.xlabel('number of neighbors')\n",
    "plt.ylabel('accuracy score')\n",
    "plt.title('Optimal number of neighbors in penguin KNN')\n",
    "plt.show()"
   ]
  },
  {
   "cell_type": "code",
   "execution_count": 32,
   "metadata": {},
   "outputs": [
    {
     "name": "stdout",
     "output_type": "stream",
     "text": [
      "The best parameter for n_neighbors is: 3\n"
     ]
    }
   ],
   "source": [
    "#find optimal number of neighbors for KNN classifier\n",
    "n_neigh = gs.best_params_['n_neighbors']\n",
    "print('The best parameter for n_neighbors is:',n_neigh)"
   ]
  },
  {
   "cell_type": "code",
   "execution_count": 33,
   "metadata": {},
   "outputs": [
    {
     "name": "stdout",
     "output_type": "stream",
     "text": [
      "The highest accuracy is: 0.9532307692307693\n"
     ]
    }
   ],
   "source": [
    "print('The highest accuracy is:', gs.best_score_)"
   ]
  },
  {
   "cell_type": "markdown",
   "metadata": {},
   "source": [
    "## Train KNN Classifier"
   ]
  },
  {
   "cell_type": "code",
   "execution_count": 34,
   "metadata": {},
   "outputs": [
    {
     "data": {
      "text/plain": [
       "KNeighborsClassifier(n_neighbors=3)"
      ]
     },
     "execution_count": 34,
     "metadata": {},
     "output_type": "execute_result"
    }
   ],
   "source": [
    "#fit KNN on training data\n",
    "knn = KNeighborsClassifier(n_neighbors=n_neigh)\n",
    "knn.fit(X_train, y_train)"
   ]
  },
  {
   "cell_type": "code",
   "execution_count": 35,
   "metadata": {},
   "outputs": [],
   "source": [
    "#predict labels for testing data using KNN classifier\n",
    "labels = knn.predict(X_test)"
   ]
  },
  {
   "cell_type": "code",
   "execution_count": 36,
   "metadata": {},
   "outputs": [],
   "source": [
    "#create dataframe using predicted species labels\n",
    "pred_df = create_df(X_test, labels)"
   ]
  },
  {
   "cell_type": "code",
   "execution_count": 37,
   "metadata": {},
   "outputs": [
    {
     "data": {
      "text/html": [
       "<div>\n",
       "<style scoped>\n",
       "    .dataframe tbody tr th:only-of-type {\n",
       "        vertical-align: middle;\n",
       "    }\n",
       "\n",
       "    .dataframe tbody tr th {\n",
       "        vertical-align: top;\n",
       "    }\n",
       "\n",
       "    .dataframe thead th {\n",
       "        text-align: right;\n",
       "    }\n",
       "</style>\n",
       "<table border=\"1\" class=\"dataframe\">\n",
       "  <thead>\n",
       "    <tr style=\"text-align: right;\">\n",
       "      <th></th>\n",
       "      <th>Culmen</th>\n",
       "      <th>Flipper</th>\n",
       "      <th>Species</th>\n",
       "    </tr>\n",
       "  </thead>\n",
       "  <tbody>\n",
       "    <tr>\n",
       "      <th>52</th>\n",
       "      <td>0.360000</td>\n",
       "      <td>0.474576</td>\n",
       "      <td>0</td>\n",
       "    </tr>\n",
       "    <tr>\n",
       "      <th>48</th>\n",
       "      <td>0.370909</td>\n",
       "      <td>0.322034</td>\n",
       "      <td>0</td>\n",
       "    </tr>\n",
       "    <tr>\n",
       "      <th>220</th>\n",
       "      <td>0.650909</td>\n",
       "      <td>0.983051</td>\n",
       "      <td>2</td>\n",
       "    </tr>\n",
       "    <tr>\n",
       "      <th>316</th>\n",
       "      <td>0.538182</td>\n",
       "      <td>0.847458</td>\n",
       "      <td>2</td>\n",
       "    </tr>\n",
       "    <tr>\n",
       "      <th>92</th>\n",
       "      <td>0.272727</td>\n",
       "      <td>0.237288</td>\n",
       "      <td>0</td>\n",
       "    </tr>\n",
       "  </tbody>\n",
       "</table>\n",
       "</div>"
      ],
      "text/plain": [
       "       Culmen   Flipper  Species\n",
       "52   0.360000  0.474576        0\n",
       "48   0.370909  0.322034        0\n",
       "220  0.650909  0.983051        2\n",
       "316  0.538182  0.847458        2\n",
       "92   0.272727  0.237288        0"
      ]
     },
     "execution_count": 37,
     "metadata": {},
     "output_type": "execute_result"
    }
   ],
   "source": [
    "#preview data with predicted labels\n",
    "pred_df.head()"
   ]
  },
  {
   "cell_type": "code",
   "execution_count": 38,
   "metadata": {},
   "outputs": [
    {
     "data": {
      "text/html": [
       "<div>\n",
       "<style scoped>\n",
       "    .dataframe tbody tr th:only-of-type {\n",
       "        vertical-align: middle;\n",
       "    }\n",
       "\n",
       "    .dataframe tbody tr th {\n",
       "        vertical-align: top;\n",
       "    }\n",
       "\n",
       "    .dataframe thead th {\n",
       "        text-align: right;\n",
       "    }\n",
       "</style>\n",
       "<table border=\"1\" class=\"dataframe\">\n",
       "  <thead>\n",
       "    <tr style=\"text-align: right;\">\n",
       "      <th></th>\n",
       "      <th>Culmen</th>\n",
       "      <th>Flipper</th>\n",
       "      <th>Species</th>\n",
       "    </tr>\n",
       "  </thead>\n",
       "  <tbody>\n",
       "    <tr>\n",
       "      <th>52</th>\n",
       "      <td>0.360000</td>\n",
       "      <td>0.474576</td>\n",
       "      <td>0</td>\n",
       "    </tr>\n",
       "    <tr>\n",
       "      <th>48</th>\n",
       "      <td>0.370909</td>\n",
       "      <td>0.322034</td>\n",
       "      <td>0</td>\n",
       "    </tr>\n",
       "    <tr>\n",
       "      <th>220</th>\n",
       "      <td>0.650909</td>\n",
       "      <td>0.983051</td>\n",
       "      <td>2</td>\n",
       "    </tr>\n",
       "    <tr>\n",
       "      <th>316</th>\n",
       "      <td>0.538182</td>\n",
       "      <td>0.847458</td>\n",
       "      <td>2</td>\n",
       "    </tr>\n",
       "    <tr>\n",
       "      <th>92</th>\n",
       "      <td>0.272727</td>\n",
       "      <td>0.237288</td>\n",
       "      <td>0</td>\n",
       "    </tr>\n",
       "  </tbody>\n",
       "</table>\n",
       "</div>"
      ],
      "text/plain": [
       "       Culmen   Flipper  Species\n",
       "52   0.360000  0.474576        0\n",
       "48   0.370909  0.322034        0\n",
       "220  0.650909  0.983051        2\n",
       "316  0.538182  0.847458        2\n",
       "92   0.272727  0.237288        0"
      ]
     },
     "execution_count": 38,
     "metadata": {},
     "output_type": "execute_result"
    }
   ],
   "source": [
    "#preview data with actual labels\n",
    "test_df.head()"
   ]
  },
  {
   "cell_type": "markdown",
   "metadata": {},
   "source": [
    "## Plot Test Data\n",
    "\n",
    "#### Plot Decision Boundaries"
   ]
  },
  {
   "cell_type": "code",
   "execution_count": 39,
   "metadata": {},
   "outputs": [
    {
     "data": {
      "image/png": "[encoded data removed]",
      "text/plain": [
       "<Figure size 1080x720 with 1 Axes>"
      ]
     },
     "metadata": {
      "needs_background": "light"
     },
     "output_type": "display_data"
    }
   ],
   "source": [
    "#set size of plot\n",
    "plt.figure(figsize=(15,10))\n",
    "\n",
    "#plot decision boundaries\n",
    "plot_decision_regions(X = np.asarray(X_train),\n",
    "                      y = np.asarray(y_train),\n",
    "                      clf=knn,\n",
    "                      X_highlight = np.asarray(X_test))\n",
    "\n",
    "#annotate plot\n",
    "plt.xlabel('culmen length')\n",
    "plt.ylabel('flipper length')\n",
    "plt.title('Decision Boundaries for KNN Classifier on Penguin Species')\n",
    "\n",
    "#display plot\n",
    "plt.show()"
   ]
  },
  {
   "cell_type": "code",
   "execution_count": 40,
   "metadata": {},
   "outputs": [],
   "source": [
    "#create scatterplot of predicted labels for test data\n",
    "pred_plot = create_scatter(pred_df, 'Predicted Species of Penguins in Test Dataset')"
   ]
  },
  {
   "cell_type": "code",
   "execution_count": 41,
   "metadata": {},
   "outputs": [],
   "source": [
    "#create scatterplot of actual labels for test data\n",
    "test_plot = create_scatter(test_df, 'Actual Species of Penguins in Test Dataset')"
   ]
  },
  {
   "cell_type": "code",
   "execution_count": 42,
   "metadata": {},
   "outputs": [
    {
     "data": {
      "text/html": [
       "\n",
       "<div id=\"altair-viz-a0b923f8a4484a81b83198242611569e\"></div>\n",
       "<script type=\"text/javascript\">\n",
       "  (function(spec, embedOpt){\n",
       "    let outputDiv = document.currentScript.previousElementSibling;\n",
       "    if (outputDiv.id !== \"altair-viz-a0b923f8a4484a81b83198242611569e\") {\n",
       "      outputDiv = document.getElementById(\"altair-viz-a0b923f8a4484a81b83198242611569e\");\n",
       "    }\n",
       "    const paths = {\n",
       "      \"vega\": \"https://cdn.jsdelivr.net/npm//vega@5?noext\",\n",
       "      \"vega-lib\": \"https://cdn.jsdelivr.net/npm//vega-lib?noext\",\n",
       "      \"vega-lite\": \"https://cdn.jsdelivr.net/npm//vega-lite@4.8.1?noext\",\n",
       "      \"vega-embed\": \"https://cdn.jsdelivr.net/npm//vega-embed@6?noext\",\n",
       "    };\n",
       "\n",
       "    function loadScript(lib) {\n",
       "      return new Promise(function(resolve, reject) {\n",
       "        var s = document.createElement('script');\n",
       "        s.src = paths[lib];\n",
       "        s.async = true;\n",
       "        s.onload = () => resolve(paths[lib]);\n",
       "        s.onerror = () => reject(`Error loading script: ${paths[lib]}`);\n",
       "        document.getElementsByTagName(\"head\")[0].appendChild(s);\n",
       "      });\n",
       "    }\n",
       "\n",
       "    function showError(err) {\n",
       "      outputDiv.innerHTML = `<div class=\"error\" style=\"color:red;\">${err}</div>`;\n",
       "      throw err;\n",
       "    }\n",
       "\n",
       "    function displayChart(vegaEmbed) {\n",
       "      vegaEmbed(outputDiv, spec, embedOpt)\n",
       "        .catch(err => showError(`Javascript Error: ${err.message}<br>This usually means there's a typo in your chart specification. See the javascript console for the full traceback.`));\n",
       "    }\n",
       "\n",
       "    if(typeof define === \"function\" && define.amd) {\n",
       "      requirejs.config({paths});\n",
       "      require([\"vega-embed\"], displayChart, err => showError(`Error loading script: ${err.message}`));\n",
       "    } else if (typeof vegaEmbed === \"function\") {\n",
       "      displayChart(vegaEmbed);\n",
       "    } else {\n",
       "      loadScript(\"vega\")\n",
       "        .then(() => loadScript(\"vega-lite\"))\n",
       "        .then(() => loadScript(\"vega-embed\"))\n",
       "        .catch(showError)\n",
       "        .then(() => displayChart(vegaEmbed));\n",
       "    }\n",
       "  })({\"config\": {\"view\": {\"continuousWidth\": 400, \"continuousHeight\": 300}}, \"hconcat\": [{\"data\": {\"name\": \"data-2190c9af50b3f3fa6f2a95c82c467390\"}, \"mark\": \"point\", \"encoding\": {\"color\": {\"type\": \"nominal\", \"field\": \"Species\"}, \"x\": {\"type\": \"quantitative\", \"field\": \"Culmen\"}, \"y\": {\"type\": \"quantitative\", \"field\": \"Flipper\"}}, \"title\": \"Predicted Species of Penguins in Test Dataset\"}, {\"data\": {\"name\": \"data-a13e7555f328bab81461ac7be29bc3a7\"}, \"mark\": \"point\", \"encoding\": {\"color\": {\"type\": \"nominal\", \"field\": \"Species\"}, \"x\": {\"type\": \"quantitative\", \"field\": \"Culmen\"}, \"y\": {\"type\": \"quantitative\", \"field\": \"Flipper\"}}, \"title\": \"Actual Species of Penguins in Test Dataset\"}], \"$schema\": \"https://vega.github.io/schema/vega-lite/v4.8.1.json\", \"datasets\": {\"data-2190c9af50b3f3fa6f2a95c82c467390\": [{\"Culmen\": 0.35999999999999993, \"Flipper\": 0.4745762711864407, \"Species\": 0}, {\"Culmen\": 0.37090909090909074, \"Flipper\": 0.3220338983050847, \"Species\": 0}, {\"Culmen\": 0.6509090909090909, \"Flipper\": 0.9830508474576272, \"Species\": 2}, {\"Culmen\": 0.5381818181818181, \"Flipper\": 0.847457627118644, \"Species\": 2}, {\"Culmen\": 0.2727272727272727, \"Flipper\": 0.23728813559322035, \"Species\": 0}, {\"Culmen\": 0.38909090909090893, \"Flipper\": 0.3898305084745763, \"Species\": 0}, {\"Culmen\": 0.2036363636363637, \"Flipper\": 0.13559322033898305, \"Species\": 0}, {\"Culmen\": 0.5599999999999999, \"Flipper\": 0.4576271186440678, \"Species\": 1}, {\"Culmen\": 0.6836363636363635, \"Flipper\": 0.4067796610169492, \"Species\": 1}, {\"Culmen\": 0.2727272727272727, \"Flipper\": 0.4067796610169492, \"Species\": 0}, {\"Culmen\": 0.6072727272727271, \"Flipper\": 0.847457627118644, \"Species\": 2}, {\"Culmen\": 0.38909090909090893, \"Flipper\": 0.6271186440677966, \"Species\": 2}, {\"Culmen\": 0.34181818181818174, \"Flipper\": 0.4915254237288136, \"Species\": 0}, {\"Culmen\": 0.5818181818181818, \"Flipper\": 0.4576271186440678, \"Species\": 1}, {\"Culmen\": 0.3199999999999999, \"Flipper\": 0.711864406779661, \"Species\": 2}, {\"Culmen\": 0.48727272727272725, \"Flipper\": 0.6779661016949152, \"Species\": 2}, {\"Culmen\": 0.2909090909090909, \"Flipper\": 0.2711864406779661, \"Species\": 0}, {\"Culmen\": 0.2, \"Flipper\": 0.15254237288135594, \"Species\": 0}, {\"Culmen\": 0.4036363636363637, \"Flipper\": 0.2542372881355932, \"Species\": 1}, {\"Culmen\": 0.5418181818181818, \"Flipper\": 0.22033898305084745, \"Species\": 1}, {\"Culmen\": 0.16363636363636364, \"Flipper\": 0.22033898305084745, \"Species\": 0}, {\"Culmen\": 0.6363636363636364, \"Flipper\": 0.7457627118644068, \"Species\": 2}, {\"Culmen\": 0.5927272727272727, \"Flipper\": 0.8135593220338984, \"Species\": 2}, {\"Culmen\": 0.14909090909090914, \"Flipper\": 0.2542372881355932, \"Species\": 0}, {\"Culmen\": 0.2109090909090908, \"Flipper\": 0.3559322033898305, \"Species\": 0}, {\"Culmen\": 0.32727272727272727, \"Flipper\": 0.288135593220339, \"Species\": 0}, {\"Culmen\": 0.5345454545454544, \"Flipper\": 0.7288135593220338, \"Species\": 2}, {\"Culmen\": 0.5236363636363636, \"Flipper\": 0.7627118644067796, \"Species\": 2}, {\"Culmen\": 0.4036363636363637, \"Flipper\": 0.6101694915254238, \"Species\": 2}, {\"Culmen\": 0.5854545454545456, \"Flipper\": 0.8305084745762712, \"Species\": 2}, {\"Culmen\": 0.23272727272727267, \"Flipper\": 0.3050847457627119, \"Species\": 0}, {\"Culmen\": 0.0, \"Flipper\": 0.2711864406779661, \"Species\": 0}, {\"Culmen\": 0.3381818181818181, \"Flipper\": 0.3220338983050847, \"Species\": 0}, {\"Culmen\": 0.2072727272727271, \"Flipper\": 0.3559322033898305, \"Species\": 0}, {\"Culmen\": 0.6763636363636364, \"Flipper\": 0.864406779661017, \"Species\": 2}, {\"Culmen\": 0.5018181818181817, \"Flipper\": 0.3050847457627119, \"Species\": 1}, {\"Culmen\": 0.6254545454545453, \"Flipper\": 0.7627118644067796, \"Species\": 2}, {\"Culmen\": 0.21818181818181817, \"Flipper\": 0.15254237288135594, \"Species\": 0}, {\"Culmen\": 0.1054545454545454, \"Flipper\": 0.3389830508474576, \"Species\": 0}, {\"Culmen\": 0.509090909090909, \"Flipper\": 0.1016949152542373, \"Species\": 1}, {\"Culmen\": 0.4945454545454546, \"Flipper\": 0.3559322033898305, \"Species\": 1}, {\"Culmen\": 0.5127272727272728, \"Flipper\": 0.6271186440677966, \"Species\": 2}, {\"Culmen\": 0.2, \"Flipper\": 0.22033898305084745, \"Species\": 0}, {\"Culmen\": 0.2072727272727271, \"Flipper\": 0.3050847457627119, \"Species\": 0}, {\"Culmen\": 0.13818181818181807, \"Flipper\": 0.288135593220339, \"Species\": 0}, {\"Culmen\": 0.6327272727272727, \"Flipper\": 0.4745762711864407, \"Species\": 1}, {\"Culmen\": 0.13090909090909095, \"Flipper\": 0.22033898305084745, \"Species\": 0}, {\"Culmen\": 0.6327272727272727, \"Flipper\": 0.9661016949152542, \"Species\": 2}, {\"Culmen\": 0.5163636363636362, \"Flipper\": 0.7288135593220338, \"Species\": 2}, {\"Culmen\": 0.6581818181818182, \"Flipper\": 0.5084745762711864, \"Species\": 1}, {\"Culmen\": 0.15999999999999995, \"Flipper\": 0.15254237288135594, \"Species\": 0}, {\"Culmen\": 0.06909090909090904, \"Flipper\": 0.22033898305084745, \"Species\": 0}, {\"Culmen\": 0.6509090909090909, \"Flipper\": 0.4067796610169492, \"Species\": 1}, {\"Culmen\": 0.2254545454545453, \"Flipper\": 0.288135593220339, \"Species\": 0}, {\"Culmen\": 0.6799999999999998, \"Flipper\": 0.9491525423728814, \"Species\": 2}, {\"Culmen\": 0.22181818181818186, \"Flipper\": 0.3050847457627119, \"Species\": 0}, {\"Culmen\": 0.19636363636363632, \"Flipper\": 0.11864406779661017, \"Species\": 0}, {\"Culmen\": 0.2945454545454546, \"Flipper\": 0.06779661016949153, \"Species\": 0}, {\"Culmen\": 0.32727272727272727, \"Flipper\": 0.559322033898305, \"Species\": 0}, {\"Culmen\": 0.629090909090909, \"Flipper\": 0.7457627118644068, \"Species\": 2}, {\"Culmen\": 0.6036363636363636, \"Flipper\": 0.847457627118644, \"Species\": 2}, {\"Culmen\": 0.5127272727272728, \"Flipper\": 0.2542372881355932, \"Species\": 1}, {\"Culmen\": 0.44727272727272716, \"Flipper\": 0.7966101694915254, \"Species\": 2}, {\"Culmen\": 0.5963636363636363, \"Flipper\": 0.3220338983050847, \"Species\": 1}, {\"Culmen\": 0.47636363636363643, \"Flipper\": 0.4406779661016949, \"Species\": 0}, {\"Culmen\": 0.6909090909090909, \"Flipper\": 0.8983050847457628, \"Species\": 2}, {\"Culmen\": 0.35999999999999993, \"Flipper\": 0.6440677966101694, \"Species\": 2}, {\"Culmen\": 0.26909090909090905, \"Flipper\": 0.23728813559322035, \"Species\": 0}, {\"Culmen\": 0.6836363636363635, \"Flipper\": 0.4067796610169492, \"Species\": 1}, {\"Culmen\": 0.46909090909090906, \"Flipper\": 0.8135593220338984, \"Species\": 2}, {\"Culmen\": 0.4, \"Flipper\": 0.423728813559322, \"Species\": 0}, {\"Culmen\": 0.7272727272727273, \"Flipper\": 0.9830508474576272, \"Species\": 2}, {\"Culmen\": 0.45090909090909087, \"Flipper\": 0.7627118644067796, \"Species\": 2}, {\"Culmen\": 0.24727272727272717, \"Flipper\": 0.3050847457627119, \"Species\": 0}, {\"Culmen\": 0.5199999999999999, \"Flipper\": 0.3220338983050847, \"Species\": 1}, {\"Culmen\": 0.18909090909090895, \"Flipper\": 0.4576271186440678, \"Species\": 0}, {\"Culmen\": 0.4145454545454545, \"Flipper\": 0.8135593220338984, \"Species\": 2}, {\"Culmen\": 0.09090909090909091, \"Flipper\": 0.288135593220339, \"Species\": 0}, {\"Culmen\": 0.5199999999999999, \"Flipper\": 0.7457627118644068, \"Species\": 2}, {\"Culmen\": 0.4727272727272727, \"Flipper\": 0.6440677966101694, \"Species\": 2}, {\"Culmen\": 0.47636363636363643, \"Flipper\": 0.864406779661017, \"Species\": 2}, {\"Culmen\": 0.14181818181818176, \"Flipper\": 0.23728813559322035, \"Species\": 0}, {\"Culmen\": 0.8036363636363637, \"Flipper\": 0.4915254237288136, \"Species\": 1}, {\"Culmen\": 0.25818181818181823, \"Flipper\": 0.3050847457627119, \"Species\": 0}, {\"Culmen\": 0.6036363636363636, \"Flipper\": 0.6440677966101694, \"Species\": 2}, {\"Culmen\": 0.2, \"Flipper\": 0.3728813559322034, \"Species\": 0}], \"data-a13e7555f328bab81461ac7be29bc3a7\": [{\"Culmen\": 0.35999999999999993, \"Flipper\": 0.4745762711864407, \"Species\": 0}, {\"Culmen\": 0.37090909090909074, \"Flipper\": 0.3220338983050847, \"Species\": 0}, {\"Culmen\": 0.6509090909090909, \"Flipper\": 0.9830508474576272, \"Species\": 2}, {\"Culmen\": 0.5381818181818181, \"Flipper\": 0.847457627118644, \"Species\": 2}, {\"Culmen\": 0.2727272727272727, \"Flipper\": 0.23728813559322035, \"Species\": 0}, {\"Culmen\": 0.38909090909090893, \"Flipper\": 0.3898305084745763, \"Species\": 0}, {\"Culmen\": 0.2036363636363637, \"Flipper\": 0.13559322033898305, \"Species\": 0}, {\"Culmen\": 0.5599999999999999, \"Flipper\": 0.4576271186440678, \"Species\": 1}, {\"Culmen\": 0.6836363636363635, \"Flipper\": 0.4067796610169492, \"Species\": 1}, {\"Culmen\": 0.2727272727272727, \"Flipper\": 0.4067796610169492, \"Species\": 0}, {\"Culmen\": 0.6072727272727271, \"Flipper\": 0.847457627118644, \"Species\": 2}, {\"Culmen\": 0.38909090909090893, \"Flipper\": 0.6271186440677966, \"Species\": 2}, {\"Culmen\": 0.34181818181818174, \"Flipper\": 0.4915254237288136, \"Species\": 0}, {\"Culmen\": 0.5818181818181818, \"Flipper\": 0.4576271186440678, \"Species\": 1}, {\"Culmen\": 0.3199999999999999, \"Flipper\": 0.711864406779661, \"Species\": 2}, {\"Culmen\": 0.48727272727272725, \"Flipper\": 0.6779661016949152, \"Species\": 2}, {\"Culmen\": 0.2909090909090909, \"Flipper\": 0.2711864406779661, \"Species\": 0}, {\"Culmen\": 0.2, \"Flipper\": 0.15254237288135594, \"Species\": 0}, {\"Culmen\": 0.4036363636363637, \"Flipper\": 0.2542372881355932, \"Species\": 1}, {\"Culmen\": 0.5418181818181818, \"Flipper\": 0.22033898305084745, \"Species\": 1}, {\"Culmen\": 0.16363636363636364, \"Flipper\": 0.22033898305084745, \"Species\": 0}, {\"Culmen\": 0.6363636363636364, \"Flipper\": 0.7457627118644068, \"Species\": 2}, {\"Culmen\": 0.5927272727272727, \"Flipper\": 0.8135593220338984, \"Species\": 2}, {\"Culmen\": 0.14909090909090914, \"Flipper\": 0.2542372881355932, \"Species\": 0}, {\"Culmen\": 0.2109090909090908, \"Flipper\": 0.3559322033898305, \"Species\": 0}, {\"Culmen\": 0.32727272727272727, \"Flipper\": 0.288135593220339, \"Species\": 0}, {\"Culmen\": 0.5345454545454544, \"Flipper\": 0.7288135593220338, \"Species\": 2}, {\"Culmen\": 0.5236363636363636, \"Flipper\": 0.7627118644067796, \"Species\": 2}, {\"Culmen\": 0.4036363636363637, \"Flipper\": 0.6101694915254238, \"Species\": 2}, {\"Culmen\": 0.5854545454545456, \"Flipper\": 0.8305084745762712, \"Species\": 2}, {\"Culmen\": 0.23272727272727267, \"Flipper\": 0.3050847457627119, \"Species\": 0}, {\"Culmen\": 0.0, \"Flipper\": 0.2711864406779661, \"Species\": 0}, {\"Culmen\": 0.3381818181818181, \"Flipper\": 0.3220338983050847, \"Species\": 0}, {\"Culmen\": 0.2072727272727271, \"Flipper\": 0.3559322033898305, \"Species\": 0}, {\"Culmen\": 0.6763636363636364, \"Flipper\": 0.864406779661017, \"Species\": 2}, {\"Culmen\": 0.5018181818181817, \"Flipper\": 0.3050847457627119, \"Species\": 1}, {\"Culmen\": 0.6254545454545453, \"Flipper\": 0.7627118644067796, \"Species\": 2}, {\"Culmen\": 0.21818181818181817, \"Flipper\": 0.15254237288135594, \"Species\": 0}, {\"Culmen\": 0.1054545454545454, \"Flipper\": 0.3389830508474576, \"Species\": 0}, {\"Culmen\": 0.509090909090909, \"Flipper\": 0.1016949152542373, \"Species\": 1}, {\"Culmen\": 0.4945454545454546, \"Flipper\": 0.3559322033898305, \"Species\": 1}, {\"Culmen\": 0.5127272727272728, \"Flipper\": 0.6271186440677966, \"Species\": 2}, {\"Culmen\": 0.2, \"Flipper\": 0.22033898305084745, \"Species\": 0}, {\"Culmen\": 0.2072727272727271, \"Flipper\": 0.3050847457627119, \"Species\": 0}, {\"Culmen\": 0.13818181818181807, \"Flipper\": 0.288135593220339, \"Species\": 0}, {\"Culmen\": 0.6327272727272727, \"Flipper\": 0.4745762711864407, \"Species\": 1}, {\"Culmen\": 0.13090909090909095, \"Flipper\": 0.22033898305084745, \"Species\": 0}, {\"Culmen\": 0.6327272727272727, \"Flipper\": 0.9661016949152542, \"Species\": 2}, {\"Culmen\": 0.5163636363636362, \"Flipper\": 0.7288135593220338, \"Species\": 2}, {\"Culmen\": 0.6581818181818182, \"Flipper\": 0.5084745762711864, \"Species\": 1}, {\"Culmen\": 0.15999999999999995, \"Flipper\": 0.15254237288135594, \"Species\": 0}, {\"Culmen\": 0.06909090909090904, \"Flipper\": 0.22033898305084745, \"Species\": 0}, {\"Culmen\": 0.6509090909090909, \"Flipper\": 0.4067796610169492, \"Species\": 1}, {\"Culmen\": 0.2254545454545453, \"Flipper\": 0.288135593220339, \"Species\": 0}, {\"Culmen\": 0.6799999999999998, \"Flipper\": 0.9491525423728814, \"Species\": 2}, {\"Culmen\": 0.22181818181818186, \"Flipper\": 0.3050847457627119, \"Species\": 0}, {\"Culmen\": 0.19636363636363632, \"Flipper\": 0.11864406779661017, \"Species\": 0}, {\"Culmen\": 0.2945454545454546, \"Flipper\": 0.06779661016949153, \"Species\": 0}, {\"Culmen\": 0.32727272727272727, \"Flipper\": 0.559322033898305, \"Species\": 0}, {\"Culmen\": 0.629090909090909, \"Flipper\": 0.7457627118644068, \"Species\": 2}, {\"Culmen\": 0.6036363636363636, \"Flipper\": 0.847457627118644, \"Species\": 2}, {\"Culmen\": 0.5127272727272728, \"Flipper\": 0.2542372881355932, \"Species\": 1}, {\"Culmen\": 0.44727272727272716, \"Flipper\": 0.7966101694915254, \"Species\": 2}, {\"Culmen\": 0.5963636363636363, \"Flipper\": 0.3220338983050847, \"Species\": 1}, {\"Culmen\": 0.47636363636363643, \"Flipper\": 0.4406779661016949, \"Species\": 1}, {\"Culmen\": 0.6909090909090909, \"Flipper\": 0.8983050847457628, \"Species\": 2}, {\"Culmen\": 0.35999999999999993, \"Flipper\": 0.6440677966101694, \"Species\": 2}, {\"Culmen\": 0.26909090909090905, \"Flipper\": 0.23728813559322035, \"Species\": 0}, {\"Culmen\": 0.6836363636363635, \"Flipper\": 0.4067796610169492, \"Species\": 1}, {\"Culmen\": 0.46909090909090906, \"Flipper\": 0.8135593220338984, \"Species\": 2}, {\"Culmen\": 0.4, \"Flipper\": 0.423728813559322, \"Species\": 0}, {\"Culmen\": 0.7272727272727273, \"Flipper\": 0.9830508474576272, \"Species\": 2}, {\"Culmen\": 0.45090909090909087, \"Flipper\": 0.7627118644067796, \"Species\": 2}, {\"Culmen\": 0.24727272727272717, \"Flipper\": 0.3050847457627119, \"Species\": 0}, {\"Culmen\": 0.5199999999999999, \"Flipper\": 0.3220338983050847, \"Species\": 1}, {\"Culmen\": 0.18909090909090895, \"Flipper\": 0.4576271186440678, \"Species\": 0}, {\"Culmen\": 0.4145454545454545, \"Flipper\": 0.8135593220338984, \"Species\": 2}, {\"Culmen\": 0.09090909090909091, \"Flipper\": 0.288135593220339, \"Species\": 0}, {\"Culmen\": 0.5199999999999999, \"Flipper\": 0.7457627118644068, \"Species\": 2}, {\"Culmen\": 0.4727272727272727, \"Flipper\": 0.6440677966101694, \"Species\": 2}, {\"Culmen\": 0.47636363636363643, \"Flipper\": 0.864406779661017, \"Species\": 2}, {\"Culmen\": 0.14181818181818176, \"Flipper\": 0.23728813559322035, \"Species\": 0}, {\"Culmen\": 0.8036363636363637, \"Flipper\": 0.4915254237288136, \"Species\": 1}, {\"Culmen\": 0.25818181818181823, \"Flipper\": 0.3050847457627119, \"Species\": 0}, {\"Culmen\": 0.6036363636363636, \"Flipper\": 0.6440677966101694, \"Species\": 2}, {\"Culmen\": 0.2, \"Flipper\": 0.3728813559322034, \"Species\": 0}]}}, {\"mode\": \"vega-lite\"});\n",
       "</script>"
      ],
      "text/plain": [
       "alt.HConcatChart(...)"
      ]
     },
     "execution_count": 42,
     "metadata": {},
     "output_type": "execute_result"
    }
   ],
   "source": [
    "pred_plot | test_plot"
   ]
  },
  {
   "cell_type": "code",
   "execution_count": 43,
   "metadata": {},
   "outputs": [],
   "source": [
    "wrong_df = pred_df[pred_df['Species']!=test_df['Species']]"
   ]
  },
  {
   "cell_type": "code",
   "execution_count": 44,
   "metadata": {},
   "outputs": [],
   "source": [
    "wrong_plot = alt.Chart(wrong_df).mark_circle(size=200, opacity=0.3).encode(\n",
    "                 x = 'Culmen',\n",
    "                 y = 'Flipper',\n",
    "                 color = 'Species:N')"
   ]
  },
  {
   "cell_type": "code",
   "execution_count": 45,
   "metadata": {},
   "outputs": [
    {
     "data": {
      "text/html": [
       "\n",
       "<div id=\"altair-viz-e29bcf4c5f7748be9f140d88d9c29a9e\"></div>\n",
       "<script type=\"text/javascript\">\n",
       "  (function(spec, embedOpt){\n",
       "    let outputDiv = document.currentScript.previousElementSibling;\n",
       "    if (outputDiv.id !== \"altair-viz-e29bcf4c5f7748be9f140d88d9c29a9e\") {\n",
       "      outputDiv = document.getElementById(\"altair-viz-e29bcf4c5f7748be9f140d88d9c29a9e\");\n",
       "    }\n",
       "    const paths = {\n",
       "      \"vega\": \"https://cdn.jsdelivr.net/npm//vega@5?noext\",\n",
       "      \"vega-lib\": \"https://cdn.jsdelivr.net/npm//vega-lib?noext\",\n",
       "      \"vega-lite\": \"https://cdn.jsdelivr.net/npm//vega-lite@4.8.1?noext\",\n",
       "      \"vega-embed\": \"https://cdn.jsdelivr.net/npm//vega-embed@6?noext\",\n",
       "    };\n",
       "\n",
       "    function loadScript(lib) {\n",
       "      return new Promise(function(resolve, reject) {\n",
       "        var s = document.createElement('script');\n",
       "        s.src = paths[lib];\n",
       "        s.async = true;\n",
       "        s.onload = () => resolve(paths[lib]);\n",
       "        s.onerror = () => reject(`Error loading script: ${paths[lib]}`);\n",
       "        document.getElementsByTagName(\"head\")[0].appendChild(s);\n",
       "      });\n",
       "    }\n",
       "\n",
       "    function showError(err) {\n",
       "      outputDiv.innerHTML = `<div class=\"error\" style=\"color:red;\">${err}</div>`;\n",
       "      throw err;\n",
       "    }\n",
       "\n",
       "    function displayChart(vegaEmbed) {\n",
       "      vegaEmbed(outputDiv, spec, embedOpt)\n",
       "        .catch(err => showError(`Javascript Error: ${err.message}<br>This usually means there's a typo in your chart specification. See the javascript console for the full traceback.`));\n",
       "    }\n",
       "\n",
       "    if(typeof define === \"function\" && define.amd) {\n",
       "      requirejs.config({paths});\n",
       "      require([\"vega-embed\"], displayChart, err => showError(`Error loading script: ${err.message}`));\n",
       "    } else if (typeof vegaEmbed === \"function\") {\n",
       "      displayChart(vegaEmbed);\n",
       "    } else {\n",
       "      loadScript(\"vega\")\n",
       "        .then(() => loadScript(\"vega-lite\"))\n",
       "        .then(() => loadScript(\"vega-embed\"))\n",
       "        .catch(showError)\n",
       "        .then(() => displayChart(vegaEmbed));\n",
       "    }\n",
       "  })({\"config\": {\"view\": {\"continuousWidth\": 400, \"continuousHeight\": 300}}, \"layer\": [{\"data\": {\"name\": \"data-a13e7555f328bab81461ac7be29bc3a7\"}, \"mark\": \"point\", \"encoding\": {\"color\": {\"type\": \"nominal\", \"field\": \"Species\"}, \"x\": {\"type\": \"quantitative\", \"field\": \"Culmen\"}, \"y\": {\"type\": \"quantitative\", \"field\": \"Flipper\"}}, \"title\": \"Actual Species of Penguins in Test Dataset\"}, {\"data\": {\"name\": \"data-a835366d5afc83a7c6603b659d740396\"}, \"mark\": {\"type\": \"circle\", \"opacity\": 0.3, \"size\": 200}, \"encoding\": {\"color\": {\"type\": \"nominal\", \"field\": \"Species\"}, \"x\": {\"type\": \"quantitative\", \"field\": \"Culmen\"}, \"y\": {\"type\": \"quantitative\", \"field\": \"Flipper\"}}}], \"$schema\": \"https://vega.github.io/schema/vega-lite/v4.8.1.json\", \"datasets\": {\"data-a13e7555f328bab81461ac7be29bc3a7\": [{\"Culmen\": 0.35999999999999993, \"Flipper\": 0.4745762711864407, \"Species\": 0}, {\"Culmen\": 0.37090909090909074, \"Flipper\": 0.3220338983050847, \"Species\": 0}, {\"Culmen\": 0.6509090909090909, \"Flipper\": 0.9830508474576272, \"Species\": 2}, {\"Culmen\": 0.5381818181818181, \"Flipper\": 0.847457627118644, \"Species\": 2}, {\"Culmen\": 0.2727272727272727, \"Flipper\": 0.23728813559322035, \"Species\": 0}, {\"Culmen\": 0.38909090909090893, \"Flipper\": 0.3898305084745763, \"Species\": 0}, {\"Culmen\": 0.2036363636363637, \"Flipper\": 0.13559322033898305, \"Species\": 0}, {\"Culmen\": 0.5599999999999999, \"Flipper\": 0.4576271186440678, \"Species\": 1}, {\"Culmen\": 0.6836363636363635, \"Flipper\": 0.4067796610169492, \"Species\": 1}, {\"Culmen\": 0.2727272727272727, \"Flipper\": 0.4067796610169492, \"Species\": 0}, {\"Culmen\": 0.6072727272727271, \"Flipper\": 0.847457627118644, \"Species\": 2}, {\"Culmen\": 0.38909090909090893, \"Flipper\": 0.6271186440677966, \"Species\": 2}, {\"Culmen\": 0.34181818181818174, \"Flipper\": 0.4915254237288136, \"Species\": 0}, {\"Culmen\": 0.5818181818181818, \"Flipper\": 0.4576271186440678, \"Species\": 1}, {\"Culmen\": 0.3199999999999999, \"Flipper\": 0.711864406779661, \"Species\": 2}, {\"Culmen\": 0.48727272727272725, \"Flipper\": 0.6779661016949152, \"Species\": 2}, {\"Culmen\": 0.2909090909090909, \"Flipper\": 0.2711864406779661, \"Species\": 0}, {\"Culmen\": 0.2, \"Flipper\": 0.15254237288135594, \"Species\": 0}, {\"Culmen\": 0.4036363636363637, \"Flipper\": 0.2542372881355932, \"Species\": 1}, {\"Culmen\": 0.5418181818181818, \"Flipper\": 0.22033898305084745, \"Species\": 1}, {\"Culmen\": 0.16363636363636364, \"Flipper\": 0.22033898305084745, \"Species\": 0}, {\"Culmen\": 0.6363636363636364, \"Flipper\": 0.7457627118644068, \"Species\": 2}, {\"Culmen\": 0.5927272727272727, \"Flipper\": 0.8135593220338984, \"Species\": 2}, {\"Culmen\": 0.14909090909090914, \"Flipper\": 0.2542372881355932, \"Species\": 0}, {\"Culmen\": 0.2109090909090908, \"Flipper\": 0.3559322033898305, \"Species\": 0}, {\"Culmen\": 0.32727272727272727, \"Flipper\": 0.288135593220339, \"Species\": 0}, {\"Culmen\": 0.5345454545454544, \"Flipper\": 0.7288135593220338, \"Species\": 2}, {\"Culmen\": 0.5236363636363636, \"Flipper\": 0.7627118644067796, \"Species\": 2}, {\"Culmen\": 0.4036363636363637, \"Flipper\": 0.6101694915254238, \"Species\": 2}, {\"Culmen\": 0.5854545454545456, \"Flipper\": 0.8305084745762712, \"Species\": 2}, {\"Culmen\": 0.23272727272727267, \"Flipper\": 0.3050847457627119, \"Species\": 0}, {\"Culmen\": 0.0, \"Flipper\": 0.2711864406779661, \"Species\": 0}, {\"Culmen\": 0.3381818181818181, \"Flipper\": 0.3220338983050847, \"Species\": 0}, {\"Culmen\": 0.2072727272727271, \"Flipper\": 0.3559322033898305, \"Species\": 0}, {\"Culmen\": 0.6763636363636364, \"Flipper\": 0.864406779661017, \"Species\": 2}, {\"Culmen\": 0.5018181818181817, \"Flipper\": 0.3050847457627119, \"Species\": 1}, {\"Culmen\": 0.6254545454545453, \"Flipper\": 0.7627118644067796, \"Species\": 2}, {\"Culmen\": 0.21818181818181817, \"Flipper\": 0.15254237288135594, \"Species\": 0}, {\"Culmen\": 0.1054545454545454, \"Flipper\": 0.3389830508474576, \"Species\": 0}, {\"Culmen\": 0.509090909090909, \"Flipper\": 0.1016949152542373, \"Species\": 1}, {\"Culmen\": 0.4945454545454546, \"Flipper\": 0.3559322033898305, \"Species\": 1}, {\"Culmen\": 0.5127272727272728, \"Flipper\": 0.6271186440677966, \"Species\": 2}, {\"Culmen\": 0.2, \"Flipper\": 0.22033898305084745, \"Species\": 0}, {\"Culmen\": 0.2072727272727271, \"Flipper\": 0.3050847457627119, \"Species\": 0}, {\"Culmen\": 0.13818181818181807, \"Flipper\": 0.288135593220339, \"Species\": 0}, {\"Culmen\": 0.6327272727272727, \"Flipper\": 0.4745762711864407, \"Species\": 1}, {\"Culmen\": 0.13090909090909095, \"Flipper\": 0.22033898305084745, \"Species\": 0}, {\"Culmen\": 0.6327272727272727, \"Flipper\": 0.9661016949152542, \"Species\": 2}, {\"Culmen\": 0.5163636363636362, \"Flipper\": 0.7288135593220338, \"Species\": 2}, {\"Culmen\": 0.6581818181818182, \"Flipper\": 0.5084745762711864, \"Species\": 1}, {\"Culmen\": 0.15999999999999995, \"Flipper\": 0.15254237288135594, \"Species\": 0}, {\"Culmen\": 0.06909090909090904, \"Flipper\": 0.22033898305084745, \"Species\": 0}, {\"Culmen\": 0.6509090909090909, \"Flipper\": 0.4067796610169492, \"Species\": 1}, {\"Culmen\": 0.2254545454545453, \"Flipper\": 0.288135593220339, \"Species\": 0}, {\"Culmen\": 0.6799999999999998, \"Flipper\": 0.9491525423728814, \"Species\": 2}, {\"Culmen\": 0.22181818181818186, \"Flipper\": 0.3050847457627119, \"Species\": 0}, {\"Culmen\": 0.19636363636363632, \"Flipper\": 0.11864406779661017, \"Species\": 0}, {\"Culmen\": 0.2945454545454546, \"Flipper\": 0.06779661016949153, \"Species\": 0}, {\"Culmen\": 0.32727272727272727, \"Flipper\": 0.559322033898305, \"Species\": 0}, {\"Culmen\": 0.629090909090909, \"Flipper\": 0.7457627118644068, \"Species\": 2}, {\"Culmen\": 0.6036363636363636, \"Flipper\": 0.847457627118644, \"Species\": 2}, {\"Culmen\": 0.5127272727272728, \"Flipper\": 0.2542372881355932, \"Species\": 1}, {\"Culmen\": 0.44727272727272716, \"Flipper\": 0.7966101694915254, \"Species\": 2}, {\"Culmen\": 0.5963636363636363, \"Flipper\": 0.3220338983050847, \"Species\": 1}, {\"Culmen\": 0.47636363636363643, \"Flipper\": 0.4406779661016949, \"Species\": 1}, {\"Culmen\": 0.6909090909090909, \"Flipper\": 0.8983050847457628, \"Species\": 2}, {\"Culmen\": 0.35999999999999993, \"Flipper\": 0.6440677966101694, \"Species\": 2}, {\"Culmen\": 0.26909090909090905, \"Flipper\": 0.23728813559322035, \"Species\": 0}, {\"Culmen\": 0.6836363636363635, \"Flipper\": 0.4067796610169492, \"Species\": 1}, {\"Culmen\": 0.46909090909090906, \"Flipper\": 0.8135593220338984, \"Species\": 2}, {\"Culmen\": 0.4, \"Flipper\": 0.423728813559322, \"Species\": 0}, {\"Culmen\": 0.7272727272727273, \"Flipper\": 0.9830508474576272, \"Species\": 2}, {\"Culmen\": 0.45090909090909087, \"Flipper\": 0.7627118644067796, \"Species\": 2}, {\"Culmen\": 0.24727272727272717, \"Flipper\": 0.3050847457627119, \"Species\": 0}, {\"Culmen\": 0.5199999999999999, \"Flipper\": 0.3220338983050847, \"Species\": 1}, {\"Culmen\": 0.18909090909090895, \"Flipper\": 0.4576271186440678, \"Species\": 0}, {\"Culmen\": 0.4145454545454545, \"Flipper\": 0.8135593220338984, \"Species\": 2}, {\"Culmen\": 0.09090909090909091, \"Flipper\": 0.288135593220339, \"Species\": 0}, {\"Culmen\": 0.5199999999999999, \"Flipper\": 0.7457627118644068, \"Species\": 2}, {\"Culmen\": 0.4727272727272727, \"Flipper\": 0.6440677966101694, \"Species\": 2}, {\"Culmen\": 0.47636363636363643, \"Flipper\": 0.864406779661017, \"Species\": 2}, {\"Culmen\": 0.14181818181818176, \"Flipper\": 0.23728813559322035, \"Species\": 0}, {\"Culmen\": 0.8036363636363637, \"Flipper\": 0.4915254237288136, \"Species\": 1}, {\"Culmen\": 0.25818181818181823, \"Flipper\": 0.3050847457627119, \"Species\": 0}, {\"Culmen\": 0.6036363636363636, \"Flipper\": 0.6440677966101694, \"Species\": 2}, {\"Culmen\": 0.2, \"Flipper\": 0.3728813559322034, \"Species\": 0}], \"data-a835366d5afc83a7c6603b659d740396\": [{\"Culmen\": 0.47636363636363643, \"Flipper\": 0.4406779661016949, \"Species\": 0}]}}, {\"mode\": \"vega-lite\"});\n",
       "</script>"
      ],
      "text/plain": [
       "alt.LayerChart(...)"
      ]
     },
     "execution_count": 45,
     "metadata": {},
     "output_type": "execute_result"
    }
   ],
   "source": [
    "test_plot + wrong_plot"
   ]
  },
  {
   "cell_type": "markdown",
   "metadata": {},
   "source": [
    "## Test Performance of the Classifier"
   ]
  },
  {
   "cell_type": "code",
   "execution_count": 46,
   "metadata": {},
   "outputs": [
    {
     "data": {
      "text/plain": [
       "array([[38,  0,  0],\n",
       "       [ 1, 16,  0],\n",
       "       [ 0,  0, 31]])"
      ]
     },
     "execution_count": 46,
     "metadata": {},
     "output_type": "execute_result"
    }
   ],
   "source": [
    "cm = confusion_matrix(y_test, labels)\n",
    "cm"
   ]
  },
  {
   "cell_type": "code",
   "execution_count": 47,
   "metadata": {},
   "outputs": [
    {
     "name": "stdout",
     "output_type": "stream",
     "text": [
      "Accuracy: 0.9883720930232558\n"
     ]
    }
   ],
   "source": [
    "print (\"Accuracy:\", accuracy_score(y_test, labels))"
   ]
  }
 ],
 "metadata": {
  "kernelspec": {
   "display_name": "Python 3",
   "language": "python",
   "name": "python3"
  },
  "language_info": {
   "codemirror_mode": {
    "name": "ipython",
    "version": 3
   },
   "file_extension": ".py",
   "mimetype": "text/x-python",
   "name": "python",
   "nbconvert_exporter": "python",
   "pygments_lexer": "ipython3",
   "version": "3.8.5"
  }
 },
 "nbformat": 4,
 "nbformat_minor": 4
}
